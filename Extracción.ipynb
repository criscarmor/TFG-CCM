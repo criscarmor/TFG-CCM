{
  "nbformat": 4,
  "nbformat_minor": 0,
  "metadata": {
    "colab": {
      "provenance": [],
      "authorship_tag": "ABX9TyM6Ywx9OqLkZNiw3z1ceE1B",
      "include_colab_link": true
    },
    "kernelspec": {
      "name": "python3",
      "display_name": "Python 3"
    },
    "language_info": {
      "name": "python"
    }
  },
  "cells": [
    {
      "cell_type": "markdown",
      "metadata": {
        "id": "view-in-github",
        "colab_type": "text"
      },
      "source": [
        "<a href=\"https://colab.research.google.com/github/criscarmor/TFG-CCM/blob/main/Extracci%C3%B3n.ipynb\" target=\"_parent\"><img src=\"https://colab.research.google.com/assets/colab-badge.svg\" alt=\"Open In Colab\"/></a>"
      ]
    },
    {
      "cell_type": "markdown",
      "source": [
        "# Este Notebook se encarga de la extracción en crudo de los datos de contaminación procedentes de la web del Ministerio para la Transición Ecológica y el Reto Demográfico https://www.miteco.gob.es/es/calidad-y-evaluacion-ambiental/temas/atmosfera-y-calidad-del-aire/evaluacion-y-datos-de-calidad-del-aire/datos.html"
      ],
      "metadata": {
        "id": "_4zJNRmqkJ42"
      }
    },
    {
      "cell_type": "code",
      "execution_count": null,
      "metadata": {
        "id": "cINi4_oRkGCm"
      },
      "outputs": [],
      "source": [
        "import pandas as pd"
      ]
    },
    {
      "cell_type": "code",
      "source": [
        "def unir_y_filtrar_csv(archivos_entrada, archivo_salida):\n",
        "\n",
        "    dataframes = []  # Lista para almacenar los DataFrames\n",
        "    # Definir los valores de filtrado\n",
        "    provincia_filtro = 41  # Reemplaza con el valor deseado\n",
        "    municipio_filtro = 91  # Reemplaza con el valor deseado\n",
        "    estacion_filtro = [9, 10, 15, 16, 17, 18, 19]  # Reemplaza con el valor deseado\n",
        "\n",
        "    # Cargar y almacenar cada archivo en la lista\n",
        "    for archivo in archivos_entrada:\n",
        "        df = pd.read_csv(archivo, sep=\";\", engine=\"python\")\n",
        "        dataframes.append(df)\n",
        "\n",
        "    # Unir todos los DataFrames en uno solo\n",
        "    df_unido = pd.concat(dataframes, ignore_index=True)\n",
        "\n",
        "    # Aplicar el filtro por provincia, municipio y estaciones\n",
        "    df_filtrado = df_unido[\n",
        "        (df_unido[\"PROVINCIA\"] == provincia_filtro) &\n",
        "        (df_unido[\"MUNICIPIO\"] == municipio_filtro) &\n",
        "        (df_unido[\"ESTACION\"].isin(estacion_filtro))\n",
        "    ]\n",
        "\n",
        "    # Ordenar por ESTACIÓN, AÑO, MES y DÍA\n",
        "    df_filtrado = df_filtrado.drop(columns=[\"PROVINCIA\",\"MUNICIPIO\",\"MAGNITUD\", \"PUNTO_MUESTREO\"])\n",
        "    df_filtrado = df_filtrado.sort_values(by=[\"ESTACION\", \"ANNO\", \"MES\", \"DIA\"], ascending=[True, True, True, True])\n",
        "\n",
        "    # Guardar el CSV filtrado y ordenado\n",
        "    df_filtrado.to_csv(archivo_salida, index=False, sep=\";\", encoding=\"utf-8-sig\")\n",
        "\n",
        "    print(f\"Archivos unidos, filtrados y ordenados guardados como '{archivo_salida}'\")"
      ],
      "metadata": {
        "id": "nnL6BPa_lGlO"
      },
      "execution_count": null,
      "outputs": []
    },
    {
      "cell_type": "code",
      "source": [
        "unir_y_filtrar_csv([\"NO2_HH_2014.csv\",\"NO2_HH_2015.csv\",\"NO2_HH_2016.csv\",\"NO2_HH_2017.csv\",\"NO2_HH_2018.csv\",\"NO2_HH_2019.csv\",\"NO2_HH_2020.csv\",\"NO2_HH_2021.csv\",\"NO2_HH_2022.csv\", \"NO2_HH_2023.csv\"],\"NO2.csv\")\n",
        "unir_y_filtrar_csv([\"PM2.5_HH_2014.csv\",\"PM2.5_HH_2015.csv\",\"PM2.5_HH_2016.csv\",\"PM25_HH_2017.csv\",\"PM25_HH_2018.csv\",\"PM25_HH_2019.csv\",\"PM25_HH_2020.csv\",\"PM25_HH_2021.csv\",\"PM25_HH_2022.csv\",\"PM25_HH_2023.csv\"], \"PM25.csv\")\n",
        "unir_y_filtrar_csv([\"PM10_HH_2014.csv\",\"PM10_HH_2015.csv\",\"PM10_HH_2016.csv\",\"PM10_HH_2017.csv\",\"PM10_HH_2018.csv\",\"PM10_HH_2019.csv\",\"PM10_HH_2020.csv\",\"PM10_HH_2021.csv\",\"PM10_HH_2022.csv\",\"PM10_HH_2023.csv\"], \"PM10.csv\")\n",
        "unir_y_filtrar_csv([\"SO2_HH_2014.csv\",\"SO2_HH_2015.csv\",\"SO2_HH_2016.csv\",\"SO2_HH_2017.csv\",\"SO2_HH_2018.csv\",\"SO2_HH_2019.csv\",\"SO2_HH_2020.csv\",\"SO2_HH_2021.csv\",\"SO2_HH_2022.csv\",\"SO2_HH_2023.csv\"], \"SO2.csv\")\n",
        "unir_y_filtrar_csv([\"O3_HH_2014.csv\",\"O3_HH_2015.csv\",\"O3_HH_2016.csv\",\"O3_HH_2017.csv\",\"O3_HH_2018.csv\",\"O3_HH_2019.csv\",\"O3_HH_2020.csv\",\"O3_HH_2021.csv\",\"O3_HH_2022.csv\",\"O3_HH_2023.csv\"], \"O3.csv\")"
      ],
      "metadata": {
        "id": "-OL6wpWqlLiV"
      },
      "execution_count": null,
      "outputs": []
    }
  ]
}