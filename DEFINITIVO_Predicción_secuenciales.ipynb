{
  "cells": [
    {
      "cell_type": "markdown",
      "metadata": {
        "id": "view-in-github",
        "colab_type": "text"
      },
      "source": [
        "<a href=\"https://colab.research.google.com/github/criscarmor/TFG-CCM/blob/main/DEFINITIVO_Predicci%C3%B3n_secuenciales.ipynb\" target=\"_parent\"><img src=\"https://colab.research.google.com/assets/colab-badge.svg\" alt=\"Open In Colab\"/></a>"
      ]
    },
    {
      "cell_type": "markdown",
      "metadata": {
        "id": "PX7A8FfCxbLE"
      },
      "source": [
        "Este Notebook se encarga de generar los datasets necesarios para entrenar los distintos modelos.\n",
        "\n",
        "Para comenzar hay que subir 2 archivos:\n",
        "\n",
        "*   **X_data_final.csv** (donde X indica el contaminante)\n",
        "*   **clima_data_final.csv** (archivo con los datos de clima horarios)\n",
        "\n",
        "En la primera línea de código, elegir la estación objetivo de estudio y el contaminante. Hay que tener en cuenta que no todas las estaciones están disponibles para todos los contaminantes.\n",
        "\n",
        "*   **NO2**: [9, 10, 15, 16, 17, 18, 19]\n",
        "*   **O3**: [9, 15, 17, 18, 19]\n",
        "*   **SO2**: [9, 10, 16, 18, 19]\n",
        "*   **PM10**: [9, 15, 16, 18]\n",
        "*   **PM25**: [9, 10, 15]"
      ]
    },
    {
      "cell_type": "code",
      "execution_count": null,
      "metadata": {
        "id": "lS6bxKBHDpH2"
      },
      "outputs": [],
      "source": [
        "estacion = 19\n",
        "contaminante = 'SO2'"
      ]
    },
    {
      "cell_type": "code",
      "execution_count": null,
      "metadata": {
        "colab": {
          "base_uri": "https://localhost:8080/"
        },
        "id": "L1-mE0ajwKhc",
        "outputId": "ef4c9c69-6597-46c0-e681-9fc84d62d077"
      },
      "outputs": [
        {
          "output_type": "stream",
          "name": "stdout",
          "text": [
            "Collecting keras-tcn\n",
            "  Downloading keras_tcn-3.5.6-py3-none-any.whl.metadata (13 kB)\n",
            "Requirement already satisfied: numpy in /usr/local/lib/python3.11/dist-packages (from keras-tcn) (2.0.2)\n",
            "Requirement already satisfied: tensorflow in /usr/local/lib/python3.11/dist-packages (from keras-tcn) (2.18.0)\n",
            "Requirement already satisfied: absl-py>=1.0.0 in /usr/local/lib/python3.11/dist-packages (from tensorflow->keras-tcn) (1.4.0)\n",
            "Requirement already satisfied: astunparse>=1.6.0 in /usr/local/lib/python3.11/dist-packages (from tensorflow->keras-tcn) (1.6.3)\n",
            "Requirement already satisfied: flatbuffers>=24.3.25 in /usr/local/lib/python3.11/dist-packages (from tensorflow->keras-tcn) (25.2.10)\n",
            "Requirement already satisfied: gast!=0.5.0,!=0.5.1,!=0.5.2,>=0.2.1 in /usr/local/lib/python3.11/dist-packages (from tensorflow->keras-tcn) (0.6.0)\n",
            "Requirement already satisfied: google-pasta>=0.1.1 in /usr/local/lib/python3.11/dist-packages (from tensorflow->keras-tcn) (0.2.0)\n",
            "Requirement already satisfied: libclang>=13.0.0 in /usr/local/lib/python3.11/dist-packages (from tensorflow->keras-tcn) (18.1.1)\n",
            "Requirement already satisfied: opt-einsum>=2.3.2 in /usr/local/lib/python3.11/dist-packages (from tensorflow->keras-tcn) (3.4.0)\n",
            "Requirement already satisfied: packaging in /usr/local/lib/python3.11/dist-packages (from tensorflow->keras-tcn) (24.2)\n",
            "Requirement already satisfied: protobuf!=4.21.0,!=4.21.1,!=4.21.2,!=4.21.3,!=4.21.4,!=4.21.5,<6.0.0dev,>=3.20.3 in /usr/local/lib/python3.11/dist-packages (from tensorflow->keras-tcn) (5.29.5)\n",
            "Requirement already satisfied: requests<3,>=2.21.0 in /usr/local/lib/python3.11/dist-packages (from tensorflow->keras-tcn) (2.32.3)\n",
            "Requirement already satisfied: setuptools in /usr/local/lib/python3.11/dist-packages (from tensorflow->keras-tcn) (75.2.0)\n",
            "Requirement already satisfied: six>=1.12.0 in /usr/local/lib/python3.11/dist-packages (from tensorflow->keras-tcn) (1.17.0)\n",
            "Requirement already satisfied: termcolor>=1.1.0 in /usr/local/lib/python3.11/dist-packages (from tensorflow->keras-tcn) (3.1.0)\n",
            "Requirement already satisfied: typing-extensions>=3.6.6 in /usr/local/lib/python3.11/dist-packages (from tensorflow->keras-tcn) (4.14.0)\n",
            "Requirement already satisfied: wrapt>=1.11.0 in /usr/local/lib/python3.11/dist-packages (from tensorflow->keras-tcn) (1.17.2)\n",
            "Requirement already satisfied: grpcio<2.0,>=1.24.3 in /usr/local/lib/python3.11/dist-packages (from tensorflow->keras-tcn) (1.73.0)\n",
            "Requirement already satisfied: tensorboard<2.19,>=2.18 in /usr/local/lib/python3.11/dist-packages (from tensorflow->keras-tcn) (2.18.0)\n",
            "Requirement already satisfied: keras>=3.5.0 in /usr/local/lib/python3.11/dist-packages (from tensorflow->keras-tcn) (3.8.0)\n",
            "Requirement already satisfied: h5py>=3.11.0 in /usr/local/lib/python3.11/dist-packages (from tensorflow->keras-tcn) (3.14.0)\n",
            "Requirement already satisfied: ml-dtypes<0.5.0,>=0.4.0 in /usr/local/lib/python3.11/dist-packages (from tensorflow->keras-tcn) (0.4.1)\n",
            "Requirement already satisfied: tensorflow-io-gcs-filesystem>=0.23.1 in /usr/local/lib/python3.11/dist-packages (from tensorflow->keras-tcn) (0.37.1)\n",
            "Requirement already satisfied: wheel<1.0,>=0.23.0 in /usr/local/lib/python3.11/dist-packages (from astunparse>=1.6.0->tensorflow->keras-tcn) (0.45.1)\n",
            "Requirement already satisfied: rich in /usr/local/lib/python3.11/dist-packages (from keras>=3.5.0->tensorflow->keras-tcn) (13.9.4)\n",
            "Requirement already satisfied: namex in /usr/local/lib/python3.11/dist-packages (from keras>=3.5.0->tensorflow->keras-tcn) (0.1.0)\n",
            "Requirement already satisfied: optree in /usr/local/lib/python3.11/dist-packages (from keras>=3.5.0->tensorflow->keras-tcn) (0.16.0)\n",
            "Requirement already satisfied: charset-normalizer<4,>=2 in /usr/local/lib/python3.11/dist-packages (from requests<3,>=2.21.0->tensorflow->keras-tcn) (3.4.2)\n",
            "Requirement already satisfied: idna<4,>=2.5 in /usr/local/lib/python3.11/dist-packages (from requests<3,>=2.21.0->tensorflow->keras-tcn) (3.10)\n",
            "Requirement already satisfied: urllib3<3,>=1.21.1 in /usr/local/lib/python3.11/dist-packages (from requests<3,>=2.21.0->tensorflow->keras-tcn) (2.4.0)\n",
            "Requirement already satisfied: certifi>=2017.4.17 in /usr/local/lib/python3.11/dist-packages (from requests<3,>=2.21.0->tensorflow->keras-tcn) (2025.6.15)\n",
            "Requirement already satisfied: markdown>=2.6.8 in /usr/local/lib/python3.11/dist-packages (from tensorboard<2.19,>=2.18->tensorflow->keras-tcn) (3.8)\n",
            "Requirement already satisfied: tensorboard-data-server<0.8.0,>=0.7.0 in /usr/local/lib/python3.11/dist-packages (from tensorboard<2.19,>=2.18->tensorflow->keras-tcn) (0.7.2)\n",
            "Requirement already satisfied: werkzeug>=1.0.1 in /usr/local/lib/python3.11/dist-packages (from tensorboard<2.19,>=2.18->tensorflow->keras-tcn) (3.1.3)\n",
            "Requirement already satisfied: MarkupSafe>=2.1.1 in /usr/local/lib/python3.11/dist-packages (from werkzeug>=1.0.1->tensorboard<2.19,>=2.18->tensorflow->keras-tcn) (3.0.2)\n",
            "Requirement already satisfied: markdown-it-py>=2.2.0 in /usr/local/lib/python3.11/dist-packages (from rich->keras>=3.5.0->tensorflow->keras-tcn) (3.0.0)\n",
            "Requirement already satisfied: pygments<3.0.0,>=2.13.0 in /usr/local/lib/python3.11/dist-packages (from rich->keras>=3.5.0->tensorflow->keras-tcn) (2.19.1)\n",
            "Requirement already satisfied: mdurl~=0.1 in /usr/local/lib/python3.11/dist-packages (from markdown-it-py>=2.2.0->rich->keras>=3.5.0->tensorflow->keras-tcn) (0.1.2)\n",
            "Downloading keras_tcn-3.5.6-py3-none-any.whl (12 kB)\n",
            "Installing collected packages: keras-tcn\n",
            "Successfully installed keras-tcn-3.5.6\n"
          ]
        }
      ],
      "source": [
        "!pip install keras-tcn"
      ]
    },
    {
      "cell_type": "code",
      "execution_count": null,
      "metadata": {
        "id": "AtKd8sFHSaqJ"
      },
      "outputs": [],
      "source": [
        "import pandas as pd\n",
        "from sklearn.preprocessing import MinMaxScaler, StandardScaler\n",
        "from sklearn.model_selection import train_test_split\n",
        "import numpy as np\n",
        "import tensorflow as tf\n",
        "from tensorflow.keras.models import Sequential\n",
        "from tensorflow.keras.layers import LSTM, Dense, GRU\n",
        "from tensorflow.keras.callbacks import EarlyStopping\n",
        "from sklearn.linear_model import LinearRegression\n",
        "import matplotlib.pyplot as plt\n",
        "from tcn import TCN\n",
        "from sklearn.metrics import mean_absolute_error, mean_squared_error, r2_score"
      ]
    },
    {
      "cell_type": "code",
      "execution_count": null,
      "metadata": {
        "id": "OVT9VfsdqeKq"
      },
      "outputs": [],
      "source": [
        "def merge_por_estacion(df_contaminacion, df_clima):\n",
        "\n",
        "    estaciones = df_contaminacion['ESTACION'].unique()\n",
        "    resultados = {}\n",
        "\n",
        "    for est in estaciones:\n",
        "        df_est = df_contaminacion[df_contaminacion['ESTACION'] == est]\n",
        "        df_merged = df_est.merge(df_clima, left_index=True, right_index=True, how='inner')\n",
        "        df_merged.drop(columns=['ESTACION'], inplace=True)\n",
        "        resultados[est] = df_merged\n",
        "\n",
        "    return resultados"
      ]
    },
    {
      "cell_type": "code",
      "execution_count": null,
      "metadata": {
        "id": "wOJb7zXsPbiE"
      },
      "outputs": [],
      "source": [
        "def detectar_bloques_continuos(df, min_horas=25):\n",
        "    \"\"\"\n",
        "    Detecta bloques de tiempo consecutivo (1h de diferencia entre filas)\n",
        "    con al menos `min_horas` observaciones.\n",
        "    \"\"\"\n",
        "    df = df.sort_index()\n",
        "    idx = df.index\n",
        "\n",
        "    # Calcular diferencias entre fechas\n",
        "    dif = idx.to_series().diff().fillna(pd.Timedelta(hours=1))\n",
        "    corte = dif != pd.Timedelta(hours=1)\n",
        "\n",
        "    # Etiquetar bloques de continuidad\n",
        "    bloques = corte.cumsum()\n",
        "\n",
        "    # Agrupar por bloques y filtrar los que tienen duración suficiente\n",
        "    bloques_validos = []\n",
        "    for _, grupo in df.groupby(bloques):\n",
        "        if len(grupo) >= min_horas:\n",
        "            bloques_validos.append(grupo)\n",
        "\n",
        "    return bloques_validos"
      ]
    },
    {
      "cell_type": "code",
      "execution_count": null,
      "metadata": {
        "id": "nF6ySO5kPwwe"
      },
      "outputs": [],
      "source": [
        "def dividir_en_bloques_continuos(df):\n",
        "    df = df.sort_index()\n",
        "    # Calcular la diferencia horaria entre filas consecutivas\n",
        "    diffs = df.index.to_series().diff()\n",
        "\n",
        "    # Identificar inicio de nuevos bloques donde hay salto ≠ 1 hora\n",
        "    bloques_id = (diffs != pd.Timedelta(hours=1)).cumsum()\n",
        "\n",
        "    # Agrupar en bloques\n",
        "    bloques = df.groupby(bloques_id)\n",
        "    bloques_lista = [grupo for _, grupo in bloques]\n",
        "\n",
        "    return bloques_lista"
      ]
    },
    {
      "cell_type": "code",
      "execution_count": null,
      "metadata": {
        "id": "nbXo--FBQnQi"
      },
      "outputs": [],
      "source": [
        "def crear_secuencias_multivariadas_debug(bloques, columnas_X, window_size, scaler_continuas):\n",
        "    import numpy as np\n",
        "\n",
        "    X_total, y_total = [], []\n",
        "    printed = False\n",
        "\n",
        "    # Separar columnas\n",
        "    columnas_ciclicas = [col for col in columnas_X if 'sin' in col or 'cos' in col]\n",
        "    columnas_continuas = [col for col in columnas_X if col not in columnas_ciclicas]\n",
        "\n",
        "    # Validación de seguridad\n",
        "    if hasattr(scaler_continuas, 'feature_names_in_'):\n",
        "        assert list(scaler_continuas.feature_names_in_) == columnas_continuas, \\\n",
        "            f\" Las columnas continuas no coinciden con las usadas para entrenar el scaler:\\n\" \\\n",
        "            f\"Esperadas: {list(scaler_continuas.feature_names_in_)}\\n\" \\\n",
        "            f\"Recibidas: {columnas_continuas}\"\n",
        "\n",
        "    for i_bloque, bloque in enumerate(bloques):\n",
        "        bloque = bloque.asfreq('H')\n",
        "\n",
        "        # Filtrar bloques cortos o con NaN\n",
        "        if len(bloque) <= window_size:\n",
        "            continue\n",
        "        if bloque[columnas_X].isna().any().any():\n",
        "            continue\n",
        "\n",
        "        bloque = bloque.copy()\n",
        "\n",
        "        # Escalar las columnas continuas (NO2 + clima)\n",
        "        continuas_scaled = scaler_continuas.transform(bloque[columnas_continuas])\n",
        "        ciclicas = bloque[columnas_ciclicas].values\n",
        "\n",
        "        # Concatenar respetando el orden original\n",
        "        X_vals = np.hstack([continuas_scaled, ciclicas])\n",
        "\n",
        "        # Target (solo NO2, primera columna de las continuas)\n",
        "        y_vals = continuas_scaled[:, 0]\n",
        "\n",
        "        for i in range(len(bloque) - window_size - 1):\n",
        "            x_seq = X_vals[i:i + window_size]\n",
        "            y_val = y_vals[i + window_size]\n",
        "\n",
        "            X_total.append(x_seq)\n",
        "            y_total.append(y_val)\n",
        "\n",
        "            if not printed:\n",
        "                print(f\"\\n Bloque {i_bloque} — Primera secuencia generada:\")\n",
        "                fechas_seq = bloque.index[i : i + window_size]\n",
        "\n",
        "                # Desescalar NO2 y clima para impresión\n",
        "                x_seq_continuas_descalado = scaler_continuas.inverse_transform(x_seq[:, :len(columnas_continuas)])\n",
        "                x_seq_no2 = x_seq_continuas_descalado[:, 0]\n",
        "                x_seq_clima = x_seq_continuas_descalado[:, 1:]\n",
        "                x_seq_ciclicas = x_seq[:, len(columnas_continuas):]\n",
        "\n",
        "                for j in range(window_size):\n",
        "                    paso = j - (window_size - 1)\n",
        "                    label = f\"t{paso}\" if paso < 0 else \"t0\"\n",
        "                    print(f\"  {label} ({fechas_seq[j]}) → CONCENTRACION: {x_seq_no2[j]:.2f}, \"\n",
        "                          f\"Clima: {np.round(x_seq_clima[j], 2).tolist()}, \"\n",
        "                          f\"Cíclicas: {np.round(x_seq_ciclicas[j], 3).tolist()}\")\n",
        "\n",
        "                y_val_input = np.hstack([[y_val], np.zeros(len(columnas_continuas) - 1)])\n",
        "                y_val_descalado = scaler_continuas.inverse_transform(y_val_input.reshape(1, -1))[0][0]\n",
        "\n",
        "                print(f\" Target (t+1) ({bloque.index[i + window_size]}) → CONCENTRACION: {y_val_descalado:.2f}\")\n",
        "                printed = True\n",
        "\n",
        "    X_total = np.array(X_total)\n",
        "    y_total = np.array(y_total)\n",
        "\n",
        "    print(f\"\\n Total de secuencias generadas: {X_total.shape[0]}\")\n",
        "    return X_total, y_total\n"
      ]
    },
    {
      "cell_type": "code",
      "execution_count": null,
      "metadata": {
        "id": "OmRGK2RSFhma"
      },
      "outputs": [],
      "source": [
        "def crear_secuencias_multisalida(bloques, columnas_X, window_size, horizon, scaler_continuas):\n",
        "    X_total, y_total = [], []\n",
        "    columnas_ciclicas = [col for col in columnas_X if 'sin' in col or 'cos' in col]\n",
        "    columnas_continuas = [col for col in columnas_X if col not in columnas_ciclicas]\n",
        "\n",
        "    for bloque in bloques:\n",
        "        bloque = bloque.asfreq('H')\n",
        "        if len(bloque) <= window_size + horizon:\n",
        "            continue\n",
        "        if bloque[columnas_X].isna().any().any():\n",
        "            continue\n",
        "\n",
        "        bloque = bloque.copy()\n",
        "        continuas_scaled = scaler_continuas.transform(bloque[columnas_continuas])\n",
        "        ciclicas = bloque[columnas_ciclicas].values\n",
        "        X_vals = np.hstack([continuas_scaled, ciclicas])\n",
        "\n",
        "        no2_scaled = continuas_scaled[:, 0]\n",
        "\n",
        "        for i in range(len(bloque) - window_size - horizon + 1):\n",
        "            x_seq = X_vals[i : i + window_size]\n",
        "            y_seq = no2_scaled[i + window_size : i + window_size + horizon]\n",
        "\n",
        "            X_total.append(x_seq)\n",
        "            y_total.append(y_seq)\n",
        "\n",
        "    X_total = np.array(X_total)\n",
        "    y_total = np.array(y_total)\n",
        "\n",
        "    print(f\"\\n Total de secuencias generadas: {X_total.shape[0]} | Salidas por muestra: {y_total.shape[1]}\")\n",
        "    return X_total, y_total"
      ]
    },
    {
      "cell_type": "code",
      "execution_count": null,
      "metadata": {
        "id": "1_LSSFOhGhKy"
      },
      "outputs": [],
      "source": [
        "def desescalar_salida_multistep(y_scaled, scaler, columnas_continuas):\n",
        "    \"\"\"\n",
        "    Desescala una matriz (n_samples, horizon) de predicciones de NO2\n",
        "    usando el scaler ajustado sobre NO2 + clima.\n",
        "    \"\"\"\n",
        "    n_samples, horizon = y_scaled.shape\n",
        "    y_inv = []\n",
        "\n",
        "    for i in range(horizon):\n",
        "        paso_i = y_scaled[:, i].reshape(-1, 1)\n",
        "        paso_i_padded = np.hstack([\n",
        "            paso_i, np.zeros((n_samples, len(columnas_continuas) - 1))\n",
        "        ])\n",
        "        paso_i_descalado = scaler.inverse_transform(paso_i_padded)[:, 0]\n",
        "        y_inv.append(paso_i_descalado)\n",
        "\n",
        "    return np.stack(y_inv, axis=1)"
      ]
    },
    {
      "cell_type": "markdown",
      "metadata": {
        "id": "vUyxcdzoU8oj"
      },
      "source": [
        "# Carga\n"
      ]
    },
    {
      "cell_type": "code",
      "execution_count": null,
      "metadata": {
        "colab": {
          "base_uri": "https://localhost:8080/",
          "height": 455
        },
        "id": "qde-bU8vS8fE",
        "outputId": "5667d381-dd57-4c76-82cd-3cdc2a68f57a"
      },
      "outputs": [
        {
          "output_type": "execute_result",
          "data": {
            "text/plain": [
              "                     ESTACION  CONCENTRACION  hora_sin  hora_cos  \\\n",
              "FECHA_HORA                                                         \n",
              "2014-01-01 00:00:00       9.0            8.0  0.000000  1.000000   \n",
              "2014-01-01 01:00:00       9.0            8.0  0.258819  0.965926   \n",
              "2014-01-01 02:00:00       9.0            7.0  0.500000  0.866025   \n",
              "2014-01-01 03:00:00       9.0            5.0  0.707107  0.707107   \n",
              "2014-01-01 04:00:00       9.0            5.0  0.866025  0.500000   \n",
              "...                       ...            ...       ...       ...   \n",
              "2023-12-31 19:00:00      19.0            5.0 -0.965926  0.258819   \n",
              "2023-12-31 20:00:00      19.0            5.0 -0.866025  0.500000   \n",
              "2023-12-31 21:00:00      19.0            5.0 -0.707107  0.707107   \n",
              "2023-12-31 22:00:00      19.0            5.0 -0.500000  0.866025   \n",
              "2023-12-31 23:00:00      19.0            5.0 -0.258819  0.965926   \n",
              "\n",
              "                     dia_semana_sin  dia_semana_cos       mes_sin   mes_cos  \n",
              "FECHA_HORA                                                                   \n",
              "2014-01-01 00:00:00        0.974928       -0.222521  5.000000e-01  0.866025  \n",
              "2014-01-01 01:00:00        0.974928       -0.222521  5.000000e-01  0.866025  \n",
              "2014-01-01 02:00:00        0.974928       -0.222521  5.000000e-01  0.866025  \n",
              "2014-01-01 03:00:00        0.974928       -0.222521  5.000000e-01  0.866025  \n",
              "2014-01-01 04:00:00        0.974928       -0.222521  5.000000e-01  0.866025  \n",
              "...                             ...             ...           ...       ...  \n",
              "2023-12-31 19:00:00       -0.781831        0.623490 -2.449294e-16  1.000000  \n",
              "2023-12-31 20:00:00       -0.781831        0.623490 -2.449294e-16  1.000000  \n",
              "2023-12-31 21:00:00       -0.781831        0.623490 -2.449294e-16  1.000000  \n",
              "2023-12-31 22:00:00       -0.781831        0.623490 -2.449294e-16  1.000000  \n",
              "2023-12-31 23:00:00       -0.781831        0.623490 -2.449294e-16  1.000000  \n",
              "\n",
              "[422448 rows x 8 columns]"
            ],
            "text/html": [
              "\n",
              "  <div id=\"df-84ffeb6d-ef94-41cd-959d-ff07d93293d5\" class=\"colab-df-container\">\n",
              "    <div>\n",
              "<style scoped>\n",
              "    .dataframe tbody tr th:only-of-type {\n",
              "        vertical-align: middle;\n",
              "    }\n",
              "\n",
              "    .dataframe tbody tr th {\n",
              "        vertical-align: top;\n",
              "    }\n",
              "\n",
              "    .dataframe thead th {\n",
              "        text-align: right;\n",
              "    }\n",
              "</style>\n",
              "<table border=\"1\" class=\"dataframe\">\n",
              "  <thead>\n",
              "    <tr style=\"text-align: right;\">\n",
              "      <th></th>\n",
              "      <th>ESTACION</th>\n",
              "      <th>CONCENTRACION</th>\n",
              "      <th>hora_sin</th>\n",
              "      <th>hora_cos</th>\n",
              "      <th>dia_semana_sin</th>\n",
              "      <th>dia_semana_cos</th>\n",
              "      <th>mes_sin</th>\n",
              "      <th>mes_cos</th>\n",
              "    </tr>\n",
              "    <tr>\n",
              "      <th>FECHA_HORA</th>\n",
              "      <th></th>\n",
              "      <th></th>\n",
              "      <th></th>\n",
              "      <th></th>\n",
              "      <th></th>\n",
              "      <th></th>\n",
              "      <th></th>\n",
              "      <th></th>\n",
              "    </tr>\n",
              "  </thead>\n",
              "  <tbody>\n",
              "    <tr>\n",
              "      <th>2014-01-01 00:00:00</th>\n",
              "      <td>9.0</td>\n",
              "      <td>8.0</td>\n",
              "      <td>0.000000</td>\n",
              "      <td>1.000000</td>\n",
              "      <td>0.974928</td>\n",
              "      <td>-0.222521</td>\n",
              "      <td>5.000000e-01</td>\n",
              "      <td>0.866025</td>\n",
              "    </tr>\n",
              "    <tr>\n",
              "      <th>2014-01-01 01:00:00</th>\n",
              "      <td>9.0</td>\n",
              "      <td>8.0</td>\n",
              "      <td>0.258819</td>\n",
              "      <td>0.965926</td>\n",
              "      <td>0.974928</td>\n",
              "      <td>-0.222521</td>\n",
              "      <td>5.000000e-01</td>\n",
              "      <td>0.866025</td>\n",
              "    </tr>\n",
              "    <tr>\n",
              "      <th>2014-01-01 02:00:00</th>\n",
              "      <td>9.0</td>\n",
              "      <td>7.0</td>\n",
              "      <td>0.500000</td>\n",
              "      <td>0.866025</td>\n",
              "      <td>0.974928</td>\n",
              "      <td>-0.222521</td>\n",
              "      <td>5.000000e-01</td>\n",
              "      <td>0.866025</td>\n",
              "    </tr>\n",
              "    <tr>\n",
              "      <th>2014-01-01 03:00:00</th>\n",
              "      <td>9.0</td>\n",
              "      <td>5.0</td>\n",
              "      <td>0.707107</td>\n",
              "      <td>0.707107</td>\n",
              "      <td>0.974928</td>\n",
              "      <td>-0.222521</td>\n",
              "      <td>5.000000e-01</td>\n",
              "      <td>0.866025</td>\n",
              "    </tr>\n",
              "    <tr>\n",
              "      <th>2014-01-01 04:00:00</th>\n",
              "      <td>9.0</td>\n",
              "      <td>5.0</td>\n",
              "      <td>0.866025</td>\n",
              "      <td>0.500000</td>\n",
              "      <td>0.974928</td>\n",
              "      <td>-0.222521</td>\n",
              "      <td>5.000000e-01</td>\n",
              "      <td>0.866025</td>\n",
              "    </tr>\n",
              "    <tr>\n",
              "      <th>...</th>\n",
              "      <td>...</td>\n",
              "      <td>...</td>\n",
              "      <td>...</td>\n",
              "      <td>...</td>\n",
              "      <td>...</td>\n",
              "      <td>...</td>\n",
              "      <td>...</td>\n",
              "      <td>...</td>\n",
              "    </tr>\n",
              "    <tr>\n",
              "      <th>2023-12-31 19:00:00</th>\n",
              "      <td>19.0</td>\n",
              "      <td>5.0</td>\n",
              "      <td>-0.965926</td>\n",
              "      <td>0.258819</td>\n",
              "      <td>-0.781831</td>\n",
              "      <td>0.623490</td>\n",
              "      <td>-2.449294e-16</td>\n",
              "      <td>1.000000</td>\n",
              "    </tr>\n",
              "    <tr>\n",
              "      <th>2023-12-31 20:00:00</th>\n",
              "      <td>19.0</td>\n",
              "      <td>5.0</td>\n",
              "      <td>-0.866025</td>\n",
              "      <td>0.500000</td>\n",
              "      <td>-0.781831</td>\n",
              "      <td>0.623490</td>\n",
              "      <td>-2.449294e-16</td>\n",
              "      <td>1.000000</td>\n",
              "    </tr>\n",
              "    <tr>\n",
              "      <th>2023-12-31 21:00:00</th>\n",
              "      <td>19.0</td>\n",
              "      <td>5.0</td>\n",
              "      <td>-0.707107</td>\n",
              "      <td>0.707107</td>\n",
              "      <td>-0.781831</td>\n",
              "      <td>0.623490</td>\n",
              "      <td>-2.449294e-16</td>\n",
              "      <td>1.000000</td>\n",
              "    </tr>\n",
              "    <tr>\n",
              "      <th>2023-12-31 22:00:00</th>\n",
              "      <td>19.0</td>\n",
              "      <td>5.0</td>\n",
              "      <td>-0.500000</td>\n",
              "      <td>0.866025</td>\n",
              "      <td>-0.781831</td>\n",
              "      <td>0.623490</td>\n",
              "      <td>-2.449294e-16</td>\n",
              "      <td>1.000000</td>\n",
              "    </tr>\n",
              "    <tr>\n",
              "      <th>2023-12-31 23:00:00</th>\n",
              "      <td>19.0</td>\n",
              "      <td>5.0</td>\n",
              "      <td>-0.258819</td>\n",
              "      <td>0.965926</td>\n",
              "      <td>-0.781831</td>\n",
              "      <td>0.623490</td>\n",
              "      <td>-2.449294e-16</td>\n",
              "      <td>1.000000</td>\n",
              "    </tr>\n",
              "  </tbody>\n",
              "</table>\n",
              "<p>422448 rows × 8 columns</p>\n",
              "</div>\n",
              "    <div class=\"colab-df-buttons\">\n",
              "\n",
              "  <div class=\"colab-df-container\">\n",
              "    <button class=\"colab-df-convert\" onclick=\"convertToInteractive('df-84ffeb6d-ef94-41cd-959d-ff07d93293d5')\"\n",
              "            title=\"Convert this dataframe to an interactive table.\"\n",
              "            style=\"display:none;\">\n",
              "\n",
              "  <svg xmlns=\"http://www.w3.org/2000/svg\" height=\"24px\" viewBox=\"0 -960 960 960\">\n",
              "    <path d=\"M120-120v-720h720v720H120Zm60-500h600v-160H180v160Zm220 220h160v-160H400v160Zm0 220h160v-160H400v160ZM180-400h160v-160H180v160Zm440 0h160v-160H620v160ZM180-180h160v-160H180v160Zm440 0h160v-160H620v160Z\"/>\n",
              "  </svg>\n",
              "    </button>\n",
              "\n",
              "  <style>\n",
              "    .colab-df-container {\n",
              "      display:flex;\n",
              "      gap: 12px;\n",
              "    }\n",
              "\n",
              "    .colab-df-convert {\n",
              "      background-color: #E8F0FE;\n",
              "      border: none;\n",
              "      border-radius: 50%;\n",
              "      cursor: pointer;\n",
              "      display: none;\n",
              "      fill: #1967D2;\n",
              "      height: 32px;\n",
              "      padding: 0 0 0 0;\n",
              "      width: 32px;\n",
              "    }\n",
              "\n",
              "    .colab-df-convert:hover {\n",
              "      background-color: #E2EBFA;\n",
              "      box-shadow: 0px 1px 2px rgba(60, 64, 67, 0.3), 0px 1px 3px 1px rgba(60, 64, 67, 0.15);\n",
              "      fill: #174EA6;\n",
              "    }\n",
              "\n",
              "    .colab-df-buttons div {\n",
              "      margin-bottom: 4px;\n",
              "    }\n",
              "\n",
              "    [theme=dark] .colab-df-convert {\n",
              "      background-color: #3B4455;\n",
              "      fill: #D2E3FC;\n",
              "    }\n",
              "\n",
              "    [theme=dark] .colab-df-convert:hover {\n",
              "      background-color: #434B5C;\n",
              "      box-shadow: 0px 1px 3px 1px rgba(0, 0, 0, 0.15);\n",
              "      filter: drop-shadow(0px 1px 2px rgba(0, 0, 0, 0.3));\n",
              "      fill: #FFFFFF;\n",
              "    }\n",
              "  </style>\n",
              "\n",
              "    <script>\n",
              "      const buttonEl =\n",
              "        document.querySelector('#df-84ffeb6d-ef94-41cd-959d-ff07d93293d5 button.colab-df-convert');\n",
              "      buttonEl.style.display =\n",
              "        google.colab.kernel.accessAllowed ? 'block' : 'none';\n",
              "\n",
              "      async function convertToInteractive(key) {\n",
              "        const element = document.querySelector('#df-84ffeb6d-ef94-41cd-959d-ff07d93293d5');\n",
              "        const dataTable =\n",
              "          await google.colab.kernel.invokeFunction('convertToInteractive',\n",
              "                                                    [key], {});\n",
              "        if (!dataTable) return;\n",
              "\n",
              "        const docLinkHtml = 'Like what you see? Visit the ' +\n",
              "          '<a target=\"_blank\" href=https://colab.research.google.com/notebooks/data_table.ipynb>data table notebook</a>'\n",
              "          + ' to learn more about interactive tables.';\n",
              "        element.innerHTML = '';\n",
              "        dataTable['output_type'] = 'display_data';\n",
              "        await google.colab.output.renderOutput(dataTable, element);\n",
              "        const docLink = document.createElement('div');\n",
              "        docLink.innerHTML = docLinkHtml;\n",
              "        element.appendChild(docLink);\n",
              "      }\n",
              "    </script>\n",
              "  </div>\n",
              "\n",
              "\n",
              "    <div id=\"df-06670cdd-e74f-489e-8fd7-9df2b4ec00ad\">\n",
              "      <button class=\"colab-df-quickchart\" onclick=\"quickchart('df-06670cdd-e74f-489e-8fd7-9df2b4ec00ad')\"\n",
              "                title=\"Suggest charts\"\n",
              "                style=\"display:none;\">\n",
              "\n",
              "<svg xmlns=\"http://www.w3.org/2000/svg\" height=\"24px\"viewBox=\"0 0 24 24\"\n",
              "     width=\"24px\">\n",
              "    <g>\n",
              "        <path d=\"M19 3H5c-1.1 0-2 .9-2 2v14c0 1.1.9 2 2 2h14c1.1 0 2-.9 2-2V5c0-1.1-.9-2-2-2zM9 17H7v-7h2v7zm4 0h-2V7h2v10zm4 0h-2v-4h2v4z\"/>\n",
              "    </g>\n",
              "</svg>\n",
              "      </button>\n",
              "\n",
              "<style>\n",
              "  .colab-df-quickchart {\n",
              "      --bg-color: #E8F0FE;\n",
              "      --fill-color: #1967D2;\n",
              "      --hover-bg-color: #E2EBFA;\n",
              "      --hover-fill-color: #174EA6;\n",
              "      --disabled-fill-color: #AAA;\n",
              "      --disabled-bg-color: #DDD;\n",
              "  }\n",
              "\n",
              "  [theme=dark] .colab-df-quickchart {\n",
              "      --bg-color: #3B4455;\n",
              "      --fill-color: #D2E3FC;\n",
              "      --hover-bg-color: #434B5C;\n",
              "      --hover-fill-color: #FFFFFF;\n",
              "      --disabled-bg-color: #3B4455;\n",
              "      --disabled-fill-color: #666;\n",
              "  }\n",
              "\n",
              "  .colab-df-quickchart {\n",
              "    background-color: var(--bg-color);\n",
              "    border: none;\n",
              "    border-radius: 50%;\n",
              "    cursor: pointer;\n",
              "    display: none;\n",
              "    fill: var(--fill-color);\n",
              "    height: 32px;\n",
              "    padding: 0;\n",
              "    width: 32px;\n",
              "  }\n",
              "\n",
              "  .colab-df-quickchart:hover {\n",
              "    background-color: var(--hover-bg-color);\n",
              "    box-shadow: 0 1px 2px rgba(60, 64, 67, 0.3), 0 1px 3px 1px rgba(60, 64, 67, 0.15);\n",
              "    fill: var(--button-hover-fill-color);\n",
              "  }\n",
              "\n",
              "  .colab-df-quickchart-complete:disabled,\n",
              "  .colab-df-quickchart-complete:disabled:hover {\n",
              "    background-color: var(--disabled-bg-color);\n",
              "    fill: var(--disabled-fill-color);\n",
              "    box-shadow: none;\n",
              "  }\n",
              "\n",
              "  .colab-df-spinner {\n",
              "    border: 2px solid var(--fill-color);\n",
              "    border-color: transparent;\n",
              "    border-bottom-color: var(--fill-color);\n",
              "    animation:\n",
              "      spin 1s steps(1) infinite;\n",
              "  }\n",
              "\n",
              "  @keyframes spin {\n",
              "    0% {\n",
              "      border-color: transparent;\n",
              "      border-bottom-color: var(--fill-color);\n",
              "      border-left-color: var(--fill-color);\n",
              "    }\n",
              "    20% {\n",
              "      border-color: transparent;\n",
              "      border-left-color: var(--fill-color);\n",
              "      border-top-color: var(--fill-color);\n",
              "    }\n",
              "    30% {\n",
              "      border-color: transparent;\n",
              "      border-left-color: var(--fill-color);\n",
              "      border-top-color: var(--fill-color);\n",
              "      border-right-color: var(--fill-color);\n",
              "    }\n",
              "    40% {\n",
              "      border-color: transparent;\n",
              "      border-right-color: var(--fill-color);\n",
              "      border-top-color: var(--fill-color);\n",
              "    }\n",
              "    60% {\n",
              "      border-color: transparent;\n",
              "      border-right-color: var(--fill-color);\n",
              "    }\n",
              "    80% {\n",
              "      border-color: transparent;\n",
              "      border-right-color: var(--fill-color);\n",
              "      border-bottom-color: var(--fill-color);\n",
              "    }\n",
              "    90% {\n",
              "      border-color: transparent;\n",
              "      border-bottom-color: var(--fill-color);\n",
              "    }\n",
              "  }\n",
              "</style>\n",
              "\n",
              "      <script>\n",
              "        async function quickchart(key) {\n",
              "          const quickchartButtonEl =\n",
              "            document.querySelector('#' + key + ' button');\n",
              "          quickchartButtonEl.disabled = true;  // To prevent multiple clicks.\n",
              "          quickchartButtonEl.classList.add('colab-df-spinner');\n",
              "          try {\n",
              "            const charts = await google.colab.kernel.invokeFunction(\n",
              "                'suggestCharts', [key], {});\n",
              "          } catch (error) {\n",
              "            console.error('Error during call to suggestCharts:', error);\n",
              "          }\n",
              "          quickchartButtonEl.classList.remove('colab-df-spinner');\n",
              "          quickchartButtonEl.classList.add('colab-df-quickchart-complete');\n",
              "        }\n",
              "        (() => {\n",
              "          let quickchartButtonEl =\n",
              "            document.querySelector('#df-06670cdd-e74f-489e-8fd7-9df2b4ec00ad button');\n",
              "          quickchartButtonEl.style.display =\n",
              "            google.colab.kernel.accessAllowed ? 'block' : 'none';\n",
              "        })();\n",
              "      </script>\n",
              "    </div>\n",
              "\n",
              "  <div id=\"id_cee42537-ae06-43b4-877b-9620c611a2dd\">\n",
              "    <style>\n",
              "      .colab-df-generate {\n",
              "        background-color: #E8F0FE;\n",
              "        border: none;\n",
              "        border-radius: 50%;\n",
              "        cursor: pointer;\n",
              "        display: none;\n",
              "        fill: #1967D2;\n",
              "        height: 32px;\n",
              "        padding: 0 0 0 0;\n",
              "        width: 32px;\n",
              "      }\n",
              "\n",
              "      .colab-df-generate:hover {\n",
              "        background-color: #E2EBFA;\n",
              "        box-shadow: 0px 1px 2px rgba(60, 64, 67, 0.3), 0px 1px 3px 1px rgba(60, 64, 67, 0.15);\n",
              "        fill: #174EA6;\n",
              "      }\n",
              "\n",
              "      [theme=dark] .colab-df-generate {\n",
              "        background-color: #3B4455;\n",
              "        fill: #D2E3FC;\n",
              "      }\n",
              "\n",
              "      [theme=dark] .colab-df-generate:hover {\n",
              "        background-color: #434B5C;\n",
              "        box-shadow: 0px 1px 3px 1px rgba(0, 0, 0, 0.15);\n",
              "        filter: drop-shadow(0px 1px 2px rgba(0, 0, 0, 0.3));\n",
              "        fill: #FFFFFF;\n",
              "      }\n",
              "    </style>\n",
              "    <button class=\"colab-df-generate\" onclick=\"generateWithVariable('df')\"\n",
              "            title=\"Generate code using this dataframe.\"\n",
              "            style=\"display:none;\">\n",
              "\n",
              "  <svg xmlns=\"http://www.w3.org/2000/svg\" height=\"24px\"viewBox=\"0 0 24 24\"\n",
              "       width=\"24px\">\n",
              "    <path d=\"M7,19H8.4L18.45,9,17,7.55,7,17.6ZM5,21V16.75L18.45,3.32a2,2,0,0,1,2.83,0l1.4,1.43a1.91,1.91,0,0,1,.58,1.4,1.91,1.91,0,0,1-.58,1.4L9.25,21ZM18.45,9,17,7.55Zm-12,3A5.31,5.31,0,0,0,4.9,8.1,5.31,5.31,0,0,0,1,6.5,5.31,5.31,0,0,0,4.9,4.9,5.31,5.31,0,0,0,6.5,1,5.31,5.31,0,0,0,8.1,4.9,5.31,5.31,0,0,0,12,6.5,5.46,5.46,0,0,0,6.5,12Z\"/>\n",
              "  </svg>\n",
              "    </button>\n",
              "    <script>\n",
              "      (() => {\n",
              "      const buttonEl =\n",
              "        document.querySelector('#id_cee42537-ae06-43b4-877b-9620c611a2dd button.colab-df-generate');\n",
              "      buttonEl.style.display =\n",
              "        google.colab.kernel.accessAllowed ? 'block' : 'none';\n",
              "\n",
              "      buttonEl.onclick = () => {\n",
              "        google.colab.notebook.generateWithVariable('df');\n",
              "      }\n",
              "      })();\n",
              "    </script>\n",
              "  </div>\n",
              "\n",
              "    </div>\n",
              "  </div>\n"
            ],
            "application/vnd.google.colaboratory.intrinsic+json": {
              "type": "dataframe",
              "variable_name": "df"
            }
          },
          "metadata": {},
          "execution_count": 10
        }
      ],
      "source": [
        "df = pd.read_csv(contaminante + \"_data_final.csv\", index_col=0, parse_dates=True)\n",
        "df"
      ]
    },
    {
      "cell_type": "code",
      "execution_count": null,
      "metadata": {
        "colab": {
          "base_uri": "https://localhost:8080/",
          "height": 455
        },
        "id": "0f-asQTkTeIB",
        "outputId": "a758bdf1-142e-4728-d0a2-25cfd2e2b85f"
      },
      "outputs": [
        {
          "output_type": "execute_result",
          "data": {
            "text/plain": [
              "                          temp  dwpt        rhum  wspd  prcp      wdir_sin  \\\n",
              "FECHA_HORA                                                                   \n",
              "2014-01-02 00:00:00  13.900000  13.3   97.000000  11.2   0.0 -6.427876e-01   \n",
              "2014-01-02 01:00:00  13.966667  13.3   96.666667  12.4   0.0 -6.838732e-01   \n",
              "2014-01-02 02:00:00  14.033333  13.3   96.333333  13.6   0.0 -7.249588e-01   \n",
              "2014-01-02 03:00:00  14.100000  13.3   96.000000  14.8   0.0 -7.660444e-01   \n",
              "2014-01-02 04:00:00  14.000000  14.0  100.000000  13.0   0.0 -5.000000e-01   \n",
              "...                        ...   ...         ...   ...   ...           ...   \n",
              "2023-12-31 19:00:00   9.500000   9.5  100.000000   7.6   0.0  5.000000e-01   \n",
              "2023-12-31 20:00:00   9.300000   9.3  100.000000   3.6   0.0  1.736482e-01   \n",
              "2023-12-31 21:00:00   7.900000   7.9  100.000000   5.4   0.0 -2.449294e-16   \n",
              "2023-12-31 22:00:00   7.700000   7.7  100.000000   1.8   0.0  5.000000e-01   \n",
              "2023-12-31 23:00:00   8.800000   8.8  100.000000   5.4   0.0  9.396926e-01   \n",
              "\n",
              "                     wdir_cos  \n",
              "FECHA_HORA                     \n",
              "2014-01-02 00:00:00 -0.766044  \n",
              "2014-01-02 01:00:00 -0.724959  \n",
              "2014-01-02 02:00:00 -0.683873  \n",
              "2014-01-02 03:00:00 -0.642788  \n",
              "2014-01-02 04:00:00 -0.866025  \n",
              "...                       ...  \n",
              "2023-12-31 19:00:00  0.866025  \n",
              "2023-12-31 20:00:00  0.984808  \n",
              "2023-12-31 21:00:00  1.000000  \n",
              "2023-12-31 22:00:00  0.866025  \n",
              "2023-12-31 23:00:00  0.342020  \n",
              "\n",
              "[86952 rows x 7 columns]"
            ],
            "text/html": [
              "\n",
              "  <div id=\"df-d61ad300-c9d9-4db2-bcb7-22f2ed132385\" class=\"colab-df-container\">\n",
              "    <div>\n",
              "<style scoped>\n",
              "    .dataframe tbody tr th:only-of-type {\n",
              "        vertical-align: middle;\n",
              "    }\n",
              "\n",
              "    .dataframe tbody tr th {\n",
              "        vertical-align: top;\n",
              "    }\n",
              "\n",
              "    .dataframe thead th {\n",
              "        text-align: right;\n",
              "    }\n",
              "</style>\n",
              "<table border=\"1\" class=\"dataframe\">\n",
              "  <thead>\n",
              "    <tr style=\"text-align: right;\">\n",
              "      <th></th>\n",
              "      <th>temp</th>\n",
              "      <th>dwpt</th>\n",
              "      <th>rhum</th>\n",
              "      <th>wspd</th>\n",
              "      <th>prcp</th>\n",
              "      <th>wdir_sin</th>\n",
              "      <th>wdir_cos</th>\n",
              "    </tr>\n",
              "    <tr>\n",
              "      <th>FECHA_HORA</th>\n",
              "      <th></th>\n",
              "      <th></th>\n",
              "      <th></th>\n",
              "      <th></th>\n",
              "      <th></th>\n",
              "      <th></th>\n",
              "      <th></th>\n",
              "    </tr>\n",
              "  </thead>\n",
              "  <tbody>\n",
              "    <tr>\n",
              "      <th>2014-01-02 00:00:00</th>\n",
              "      <td>13.900000</td>\n",
              "      <td>13.3</td>\n",
              "      <td>97.000000</td>\n",
              "      <td>11.2</td>\n",
              "      <td>0.0</td>\n",
              "      <td>-6.427876e-01</td>\n",
              "      <td>-0.766044</td>\n",
              "    </tr>\n",
              "    <tr>\n",
              "      <th>2014-01-02 01:00:00</th>\n",
              "      <td>13.966667</td>\n",
              "      <td>13.3</td>\n",
              "      <td>96.666667</td>\n",
              "      <td>12.4</td>\n",
              "      <td>0.0</td>\n",
              "      <td>-6.838732e-01</td>\n",
              "      <td>-0.724959</td>\n",
              "    </tr>\n",
              "    <tr>\n",
              "      <th>2014-01-02 02:00:00</th>\n",
              "      <td>14.033333</td>\n",
              "      <td>13.3</td>\n",
              "      <td>96.333333</td>\n",
              "      <td>13.6</td>\n",
              "      <td>0.0</td>\n",
              "      <td>-7.249588e-01</td>\n",
              "      <td>-0.683873</td>\n",
              "    </tr>\n",
              "    <tr>\n",
              "      <th>2014-01-02 03:00:00</th>\n",
              "      <td>14.100000</td>\n",
              "      <td>13.3</td>\n",
              "      <td>96.000000</td>\n",
              "      <td>14.8</td>\n",
              "      <td>0.0</td>\n",
              "      <td>-7.660444e-01</td>\n",
              "      <td>-0.642788</td>\n",
              "    </tr>\n",
              "    <tr>\n",
              "      <th>2014-01-02 04:00:00</th>\n",
              "      <td>14.000000</td>\n",
              "      <td>14.0</td>\n",
              "      <td>100.000000</td>\n",
              "      <td>13.0</td>\n",
              "      <td>0.0</td>\n",
              "      <td>-5.000000e-01</td>\n",
              "      <td>-0.866025</td>\n",
              "    </tr>\n",
              "    <tr>\n",
              "      <th>...</th>\n",
              "      <td>...</td>\n",
              "      <td>...</td>\n",
              "      <td>...</td>\n",
              "      <td>...</td>\n",
              "      <td>...</td>\n",
              "      <td>...</td>\n",
              "      <td>...</td>\n",
              "    </tr>\n",
              "    <tr>\n",
              "      <th>2023-12-31 19:00:00</th>\n",
              "      <td>9.500000</td>\n",
              "      <td>9.5</td>\n",
              "      <td>100.000000</td>\n",
              "      <td>7.6</td>\n",
              "      <td>0.0</td>\n",
              "      <td>5.000000e-01</td>\n",
              "      <td>0.866025</td>\n",
              "    </tr>\n",
              "    <tr>\n",
              "      <th>2023-12-31 20:00:00</th>\n",
              "      <td>9.300000</td>\n",
              "      <td>9.3</td>\n",
              "      <td>100.000000</td>\n",
              "      <td>3.6</td>\n",
              "      <td>0.0</td>\n",
              "      <td>1.736482e-01</td>\n",
              "      <td>0.984808</td>\n",
              "    </tr>\n",
              "    <tr>\n",
              "      <th>2023-12-31 21:00:00</th>\n",
              "      <td>7.900000</td>\n",
              "      <td>7.9</td>\n",
              "      <td>100.000000</td>\n",
              "      <td>5.4</td>\n",
              "      <td>0.0</td>\n",
              "      <td>-2.449294e-16</td>\n",
              "      <td>1.000000</td>\n",
              "    </tr>\n",
              "    <tr>\n",
              "      <th>2023-12-31 22:00:00</th>\n",
              "      <td>7.700000</td>\n",
              "      <td>7.7</td>\n",
              "      <td>100.000000</td>\n",
              "      <td>1.8</td>\n",
              "      <td>0.0</td>\n",
              "      <td>5.000000e-01</td>\n",
              "      <td>0.866025</td>\n",
              "    </tr>\n",
              "    <tr>\n",
              "      <th>2023-12-31 23:00:00</th>\n",
              "      <td>8.800000</td>\n",
              "      <td>8.8</td>\n",
              "      <td>100.000000</td>\n",
              "      <td>5.4</td>\n",
              "      <td>0.0</td>\n",
              "      <td>9.396926e-01</td>\n",
              "      <td>0.342020</td>\n",
              "    </tr>\n",
              "  </tbody>\n",
              "</table>\n",
              "<p>86952 rows × 7 columns</p>\n",
              "</div>\n",
              "    <div class=\"colab-df-buttons\">\n",
              "\n",
              "  <div class=\"colab-df-container\">\n",
              "    <button class=\"colab-df-convert\" onclick=\"convertToInteractive('df-d61ad300-c9d9-4db2-bcb7-22f2ed132385')\"\n",
              "            title=\"Convert this dataframe to an interactive table.\"\n",
              "            style=\"display:none;\">\n",
              "\n",
              "  <svg xmlns=\"http://www.w3.org/2000/svg\" height=\"24px\" viewBox=\"0 -960 960 960\">\n",
              "    <path d=\"M120-120v-720h720v720H120Zm60-500h600v-160H180v160Zm220 220h160v-160H400v160Zm0 220h160v-160H400v160ZM180-400h160v-160H180v160Zm440 0h160v-160H620v160ZM180-180h160v-160H180v160Zm440 0h160v-160H620v160Z\"/>\n",
              "  </svg>\n",
              "    </button>\n",
              "\n",
              "  <style>\n",
              "    .colab-df-container {\n",
              "      display:flex;\n",
              "      gap: 12px;\n",
              "    }\n",
              "\n",
              "    .colab-df-convert {\n",
              "      background-color: #E8F0FE;\n",
              "      border: none;\n",
              "      border-radius: 50%;\n",
              "      cursor: pointer;\n",
              "      display: none;\n",
              "      fill: #1967D2;\n",
              "      height: 32px;\n",
              "      padding: 0 0 0 0;\n",
              "      width: 32px;\n",
              "    }\n",
              "\n",
              "    .colab-df-convert:hover {\n",
              "      background-color: #E2EBFA;\n",
              "      box-shadow: 0px 1px 2px rgba(60, 64, 67, 0.3), 0px 1px 3px 1px rgba(60, 64, 67, 0.15);\n",
              "      fill: #174EA6;\n",
              "    }\n",
              "\n",
              "    .colab-df-buttons div {\n",
              "      margin-bottom: 4px;\n",
              "    }\n",
              "\n",
              "    [theme=dark] .colab-df-convert {\n",
              "      background-color: #3B4455;\n",
              "      fill: #D2E3FC;\n",
              "    }\n",
              "\n",
              "    [theme=dark] .colab-df-convert:hover {\n",
              "      background-color: #434B5C;\n",
              "      box-shadow: 0px 1px 3px 1px rgba(0, 0, 0, 0.15);\n",
              "      filter: drop-shadow(0px 1px 2px rgba(0, 0, 0, 0.3));\n",
              "      fill: #FFFFFF;\n",
              "    }\n",
              "  </style>\n",
              "\n",
              "    <script>\n",
              "      const buttonEl =\n",
              "        document.querySelector('#df-d61ad300-c9d9-4db2-bcb7-22f2ed132385 button.colab-df-convert');\n",
              "      buttonEl.style.display =\n",
              "        google.colab.kernel.accessAllowed ? 'block' : 'none';\n",
              "\n",
              "      async function convertToInteractive(key) {\n",
              "        const element = document.querySelector('#df-d61ad300-c9d9-4db2-bcb7-22f2ed132385');\n",
              "        const dataTable =\n",
              "          await google.colab.kernel.invokeFunction('convertToInteractive',\n",
              "                                                    [key], {});\n",
              "        if (!dataTable) return;\n",
              "\n",
              "        const docLinkHtml = 'Like what you see? Visit the ' +\n",
              "          '<a target=\"_blank\" href=https://colab.research.google.com/notebooks/data_table.ipynb>data table notebook</a>'\n",
              "          + ' to learn more about interactive tables.';\n",
              "        element.innerHTML = '';\n",
              "        dataTable['output_type'] = 'display_data';\n",
              "        await google.colab.output.renderOutput(dataTable, element);\n",
              "        const docLink = document.createElement('div');\n",
              "        docLink.innerHTML = docLinkHtml;\n",
              "        element.appendChild(docLink);\n",
              "      }\n",
              "    </script>\n",
              "  </div>\n",
              "\n",
              "\n",
              "    <div id=\"df-84e521c0-0262-4cf3-afff-b789ab3e14b6\">\n",
              "      <button class=\"colab-df-quickchart\" onclick=\"quickchart('df-84e521c0-0262-4cf3-afff-b789ab3e14b6')\"\n",
              "                title=\"Suggest charts\"\n",
              "                style=\"display:none;\">\n",
              "\n",
              "<svg xmlns=\"http://www.w3.org/2000/svg\" height=\"24px\"viewBox=\"0 0 24 24\"\n",
              "     width=\"24px\">\n",
              "    <g>\n",
              "        <path d=\"M19 3H5c-1.1 0-2 .9-2 2v14c0 1.1.9 2 2 2h14c1.1 0 2-.9 2-2V5c0-1.1-.9-2-2-2zM9 17H7v-7h2v7zm4 0h-2V7h2v10zm4 0h-2v-4h2v4z\"/>\n",
              "    </g>\n",
              "</svg>\n",
              "      </button>\n",
              "\n",
              "<style>\n",
              "  .colab-df-quickchart {\n",
              "      --bg-color: #E8F0FE;\n",
              "      --fill-color: #1967D2;\n",
              "      --hover-bg-color: #E2EBFA;\n",
              "      --hover-fill-color: #174EA6;\n",
              "      --disabled-fill-color: #AAA;\n",
              "      --disabled-bg-color: #DDD;\n",
              "  }\n",
              "\n",
              "  [theme=dark] .colab-df-quickchart {\n",
              "      --bg-color: #3B4455;\n",
              "      --fill-color: #D2E3FC;\n",
              "      --hover-bg-color: #434B5C;\n",
              "      --hover-fill-color: #FFFFFF;\n",
              "      --disabled-bg-color: #3B4455;\n",
              "      --disabled-fill-color: #666;\n",
              "  }\n",
              "\n",
              "  .colab-df-quickchart {\n",
              "    background-color: var(--bg-color);\n",
              "    border: none;\n",
              "    border-radius: 50%;\n",
              "    cursor: pointer;\n",
              "    display: none;\n",
              "    fill: var(--fill-color);\n",
              "    height: 32px;\n",
              "    padding: 0;\n",
              "    width: 32px;\n",
              "  }\n",
              "\n",
              "  .colab-df-quickchart:hover {\n",
              "    background-color: var(--hover-bg-color);\n",
              "    box-shadow: 0 1px 2px rgba(60, 64, 67, 0.3), 0 1px 3px 1px rgba(60, 64, 67, 0.15);\n",
              "    fill: var(--button-hover-fill-color);\n",
              "  }\n",
              "\n",
              "  .colab-df-quickchart-complete:disabled,\n",
              "  .colab-df-quickchart-complete:disabled:hover {\n",
              "    background-color: var(--disabled-bg-color);\n",
              "    fill: var(--disabled-fill-color);\n",
              "    box-shadow: none;\n",
              "  }\n",
              "\n",
              "  .colab-df-spinner {\n",
              "    border: 2px solid var(--fill-color);\n",
              "    border-color: transparent;\n",
              "    border-bottom-color: var(--fill-color);\n",
              "    animation:\n",
              "      spin 1s steps(1) infinite;\n",
              "  }\n",
              "\n",
              "  @keyframes spin {\n",
              "    0% {\n",
              "      border-color: transparent;\n",
              "      border-bottom-color: var(--fill-color);\n",
              "      border-left-color: var(--fill-color);\n",
              "    }\n",
              "    20% {\n",
              "      border-color: transparent;\n",
              "      border-left-color: var(--fill-color);\n",
              "      border-top-color: var(--fill-color);\n",
              "    }\n",
              "    30% {\n",
              "      border-color: transparent;\n",
              "      border-left-color: var(--fill-color);\n",
              "      border-top-color: var(--fill-color);\n",
              "      border-right-color: var(--fill-color);\n",
              "    }\n",
              "    40% {\n",
              "      border-color: transparent;\n",
              "      border-right-color: var(--fill-color);\n",
              "      border-top-color: var(--fill-color);\n",
              "    }\n",
              "    60% {\n",
              "      border-color: transparent;\n",
              "      border-right-color: var(--fill-color);\n",
              "    }\n",
              "    80% {\n",
              "      border-color: transparent;\n",
              "      border-right-color: var(--fill-color);\n",
              "      border-bottom-color: var(--fill-color);\n",
              "    }\n",
              "    90% {\n",
              "      border-color: transparent;\n",
              "      border-bottom-color: var(--fill-color);\n",
              "    }\n",
              "  }\n",
              "</style>\n",
              "\n",
              "      <script>\n",
              "        async function quickchart(key) {\n",
              "          const quickchartButtonEl =\n",
              "            document.querySelector('#' + key + ' button');\n",
              "          quickchartButtonEl.disabled = true;  // To prevent multiple clicks.\n",
              "          quickchartButtonEl.classList.add('colab-df-spinner');\n",
              "          try {\n",
              "            const charts = await google.colab.kernel.invokeFunction(\n",
              "                'suggestCharts', [key], {});\n",
              "          } catch (error) {\n",
              "            console.error('Error during call to suggestCharts:', error);\n",
              "          }\n",
              "          quickchartButtonEl.classList.remove('colab-df-spinner');\n",
              "          quickchartButtonEl.classList.add('colab-df-quickchart-complete');\n",
              "        }\n",
              "        (() => {\n",
              "          let quickchartButtonEl =\n",
              "            document.querySelector('#df-84e521c0-0262-4cf3-afff-b789ab3e14b6 button');\n",
              "          quickchartButtonEl.style.display =\n",
              "            google.colab.kernel.accessAllowed ? 'block' : 'none';\n",
              "        })();\n",
              "      </script>\n",
              "    </div>\n",
              "\n",
              "  <div id=\"id_ec3364c2-bc7f-4eac-a78c-441f71d21b97\">\n",
              "    <style>\n",
              "      .colab-df-generate {\n",
              "        background-color: #E8F0FE;\n",
              "        border: none;\n",
              "        border-radius: 50%;\n",
              "        cursor: pointer;\n",
              "        display: none;\n",
              "        fill: #1967D2;\n",
              "        height: 32px;\n",
              "        padding: 0 0 0 0;\n",
              "        width: 32px;\n",
              "      }\n",
              "\n",
              "      .colab-df-generate:hover {\n",
              "        background-color: #E2EBFA;\n",
              "        box-shadow: 0px 1px 2px rgba(60, 64, 67, 0.3), 0px 1px 3px 1px rgba(60, 64, 67, 0.15);\n",
              "        fill: #174EA6;\n",
              "      }\n",
              "\n",
              "      [theme=dark] .colab-df-generate {\n",
              "        background-color: #3B4455;\n",
              "        fill: #D2E3FC;\n",
              "      }\n",
              "\n",
              "      [theme=dark] .colab-df-generate:hover {\n",
              "        background-color: #434B5C;\n",
              "        box-shadow: 0px 1px 3px 1px rgba(0, 0, 0, 0.15);\n",
              "        filter: drop-shadow(0px 1px 2px rgba(0, 0, 0, 0.3));\n",
              "        fill: #FFFFFF;\n",
              "      }\n",
              "    </style>\n",
              "    <button class=\"colab-df-generate\" onclick=\"generateWithVariable('df_clima')\"\n",
              "            title=\"Generate code using this dataframe.\"\n",
              "            style=\"display:none;\">\n",
              "\n",
              "  <svg xmlns=\"http://www.w3.org/2000/svg\" height=\"24px\"viewBox=\"0 0 24 24\"\n",
              "       width=\"24px\">\n",
              "    <path d=\"M7,19H8.4L18.45,9,17,7.55,7,17.6ZM5,21V16.75L18.45,3.32a2,2,0,0,1,2.83,0l1.4,1.43a1.91,1.91,0,0,1,.58,1.4,1.91,1.91,0,0,1-.58,1.4L9.25,21ZM18.45,9,17,7.55Zm-12,3A5.31,5.31,0,0,0,4.9,8.1,5.31,5.31,0,0,0,1,6.5,5.31,5.31,0,0,0,4.9,4.9,5.31,5.31,0,0,0,6.5,1,5.31,5.31,0,0,0,8.1,4.9,5.31,5.31,0,0,0,12,6.5,5.46,5.46,0,0,0,6.5,12Z\"/>\n",
              "  </svg>\n",
              "    </button>\n",
              "    <script>\n",
              "      (() => {\n",
              "      const buttonEl =\n",
              "        document.querySelector('#id_ec3364c2-bc7f-4eac-a78c-441f71d21b97 button.colab-df-generate');\n",
              "      buttonEl.style.display =\n",
              "        google.colab.kernel.accessAllowed ? 'block' : 'none';\n",
              "\n",
              "      buttonEl.onclick = () => {\n",
              "        google.colab.notebook.generateWithVariable('df_clima');\n",
              "      }\n",
              "      })();\n",
              "    </script>\n",
              "  </div>\n",
              "\n",
              "    </div>\n",
              "  </div>\n"
            ],
            "application/vnd.google.colaboratory.intrinsic+json": {
              "type": "dataframe",
              "variable_name": "df_clima",
              "summary": "{\n  \"name\": \"df_clima\",\n  \"rows\": 86952,\n  \"fields\": [\n    {\n      \"column\": \"FECHA_HORA\",\n      \"properties\": {\n        \"dtype\": \"date\",\n        \"min\": \"2014-01-02 00:00:00\",\n        \"max\": \"2023-12-31 23:00:00\",\n        \"num_unique_values\": 86952,\n        \"samples\": [\n          \"2016-07-14 06:00:00\",\n          \"2018-11-09 19:00:00\",\n          \"2014-03-06 00:00:00\"\n        ],\n        \"semantic_type\": \"\",\n        \"description\": \"\"\n      }\n    },\n    {\n      \"column\": \"temp\",\n      \"properties\": {\n        \"dtype\": \"number\",\n        \"std\": 8.027028449041929,\n        \"min\": -1.1,\n        \"max\": 44.5,\n        \"num_unique_values\": 808,\n        \"samples\": [\n          33.2,\n          20.4,\n          19.1\n        ],\n        \"semantic_type\": \"\",\n        \"description\": \"\"\n      }\n    },\n    {\n      \"column\": \"dwpt\",\n      \"properties\": {\n        \"dtype\": \"number\",\n        \"std\": 5.206987805631052,\n        \"min\": -10.4,\n        \"max\": 27.6,\n        \"num_unique_values\": 1224,\n        \"samples\": [\n          3.1000000000000014,\n          8.633333333333335,\n          3.4\n        ],\n        \"semantic_type\": \"\",\n        \"description\": \"\"\n      }\n    },\n    {\n      \"column\": \"rhum\",\n      \"properties\": {\n        \"dtype\": \"number\",\n        \"std\": 23.813298443519717,\n        \"min\": 2.0,\n        \"max\": 100.0,\n        \"num_unique_values\": 248,\n        \"samples\": [\n          59.0,\n          90.0,\n          37.66666666666667\n        ],\n        \"semantic_type\": \"\",\n        \"description\": \"\"\n      }\n    },\n    {\n      \"column\": \"wspd\",\n      \"properties\": {\n        \"dtype\": \"number\",\n        \"std\": 7.399474747999709,\n        \"min\": 0.0,\n        \"max\": 59.4,\n        \"num_unique_values\": 188,\n        \"samples\": [\n          32.0,\n          15.0,\n          17.2\n        ],\n        \"semantic_type\": \"\",\n        \"description\": \"\"\n      }\n    },\n    {\n      \"column\": \"prcp\",\n      \"properties\": {\n        \"dtype\": \"number\",\n        \"std\": 0.08467759631349578,\n        \"min\": 0.0,\n        \"max\": 1.0,\n        \"num_unique_values\": 2,\n        \"samples\": [\n          1.0,\n          0.0\n        ],\n        \"semantic_type\": \"\",\n        \"description\": \"\"\n      }\n    },\n    {\n      \"column\": \"wdir_sin\",\n      \"properties\": {\n        \"dtype\": \"number\",\n        \"std\": 0.6715467213565395,\n        \"min\": -1.0,\n        \"max\": 1.0,\n        \"num_unique_values\": 665,\n        \"samples\": [\n          -0.9551121657052656,\n          -0.7065879555832674\n        ],\n        \"semantic_type\": \"\",\n        \"description\": \"\"\n      }\n    },\n    {\n      \"column\": \"wdir_cos\",\n      \"properties\": {\n        \"dtype\": \"number\",\n        \"std\": 0.7353862159113701,\n        \"min\": -1.0,\n        \"max\": 1.0,\n        \"num_unique_values\": 660,\n        \"samples\": [\n          0.4694715627858908,\n          -0.4055797876726388\n        ],\n        \"semantic_type\": \"\",\n        \"description\": \"\"\n      }\n    }\n  ]\n}"
            }
          },
          "metadata": {},
          "execution_count": 11
        }
      ],
      "source": [
        "df_clima = pd.read_csv(\"clima_data_final.csv\", index_col=0, parse_dates=True)\n",
        "df_clima"
      ]
    },
    {
      "cell_type": "code",
      "execution_count": null,
      "metadata": {
        "id": "q_1bPpH1qfIY"
      },
      "outputs": [],
      "source": [
        "df_estaciones = merge_por_estacion(df, df_clima)"
      ]
    },
    {
      "cell_type": "markdown",
      "metadata": {
        "id": "8Cx3GeyrVBio"
      },
      "source": [
        "# Cálculo cutoff\n"
      ]
    },
    {
      "cell_type": "code",
      "execution_count": null,
      "metadata": {
        "id": "ND8g76duvuP-"
      },
      "outputs": [],
      "source": [
        "cutoff_2023 = pd.Timestamp(\"2023-01-01 00:00:00\")"
      ]
    },
    {
      "cell_type": "code",
      "execution_count": null,
      "metadata": {
        "id": "xSkl5zrFvuz5"
      },
      "outputs": [],
      "source": [
        "df = df_estaciones[estacion][df_estaciones[estacion].index < cutoff_2023].copy()\n",
        "df_2023 = df_estaciones[estacion][df_estaciones[estacion].index >= cutoff_2023 + pd.Timedelta(days=2)].copy()"
      ]
    },
    {
      "cell_type": "markdown",
      "metadata": {
        "id": "fJ9jBVusVl7N"
      },
      "source": [
        "# Generación secuencias 1 hora\n"
      ]
    },
    {
      "cell_type": "code",
      "execution_count": null,
      "metadata": {
        "colab": {
          "base_uri": "https://localhost:8080/"
        },
        "id": "wkuOt3pmbX3B",
        "outputId": "f23cd001-07f1-4b45-9420-6fd1ddab838c"
      },
      "outputs": [
        {
          "output_type": "stream",
          "name": "stdout",
          "text": [
            "✅ Bloques: 41\n"
          ]
        }
      ],
      "source": [
        "bloques_original = dividir_en_bloques_continuos(df)\n",
        "bloques_filtrados = [b for b in bloques_original if len(b) > 24]\n",
        "print(f\" Bloques: {len(bloques_filtrados)}\")"
      ]
    },
    {
      "cell_type": "code",
      "execution_count": null,
      "metadata": {
        "colab": {
          "base_uri": "https://localhost:8080/"
        },
        "id": "XBlDgmv8cgCA",
        "outputId": "d21b6fad-7a52-41a7-dec6-a79652eae100"
      },
      "outputs": [
        {
          "output_type": "stream",
          "name": "stdout",
          "text": [
            "\n",
            " Bloque 0 — Primera secuencia generada:\n",
            "  t-23 (2014-01-02 00:00:00) → CONCENTRACION: 2.00, Clima: [13.9, 13.3, 97.0, 11.2, 0.0], Cíclicas: [0.0, 1.0, 0.434, -0.901, 0.5, 0.866, -0.643, -0.766]\n",
            "  t-22 (2014-01-02 01:00:00) → CONCENTRACION: 2.00, Clima: [13.97, 13.3, 96.67, 12.4, 0.0], Cíclicas: [0.259, 0.966, 0.434, -0.901, 0.5, 0.866, -0.684, -0.725]\n",
            "  t-21 (2014-01-02 02:00:00) → CONCENTRACION: 2.00, Clima: [14.03, 13.3, 96.33, 13.6, 0.0], Cíclicas: [0.5, 0.866, 0.434, -0.901, 0.5, 0.866, -0.725, -0.684]\n",
            "  t-20 (2014-01-02 03:00:00) → CONCENTRACION: 2.00, Clima: [14.1, 13.3, 96.0, 14.8, 0.0], Cíclicas: [0.707, 0.707, 0.434, -0.901, 0.5, 0.866, -0.766, -0.643]\n",
            "  t-19 (2014-01-02 04:00:00) → CONCENTRACION: 2.00, Clima: [14.0, 14.0, 100.0, 13.0, 0.0], Cíclicas: [0.866, 0.5, 0.434, -0.901, 0.5, 0.866, -0.5, -0.866]\n",
            "  t-18 (2014-01-02 05:00:00) → CONCENTRACION: 3.00, Clima: [14.0, 14.0, 100.0, 7.6, 0.0], Cíclicas: [0.966, 0.259, 0.434, -0.901, 0.5, 0.866, -0.342, -0.94]\n",
            "  t-17 (2014-01-02 06:00:00) → CONCENTRACION: 3.00, Clima: [14.3, 12.9, 93.0, 14.8, 0.0], Cíclicas: [1.0, 0.0, 0.434, -0.901, 0.5, 0.866, -0.5, -0.866]\n",
            "  t-16 (2014-01-02 07:00:00) → CONCENTRACION: 3.00, Clima: [14.0, 14.0, 100.0, 14.8, 0.0], Cíclicas: [0.966, -0.259, 0.434, -0.901, 0.5, 0.866, -0.342, -0.94]\n",
            "  t-15 (2014-01-02 08:00:00) → CONCENTRACION: 3.00, Clima: [14.0, 14.0, 100.0, 13.0, 0.0], Cíclicas: [0.866, -0.5, 0.434, -0.901, 0.5, 0.866, -0.5, -0.866]\n",
            "  t-14 (2014-01-02 09:00:00) → CONCENTRACION: 3.00, Clima: [15.3, 13.3, 90.0, 16.6, 0.0], Cíclicas: [0.707, -0.707, 0.434, -0.901, 0.5, 0.866, -0.5, -0.866]\n",
            "  t-13 (2014-01-02 10:00:00) → CONCENTRACION: 3.00, Clima: [15.0, 15.0, 100.0, 18.4, 0.0], Cíclicas: [0.5, -0.866, 0.434, -0.901, 0.5, 0.866, -0.643, -0.766]\n",
            "  t-12 (2014-01-02 11:00:00) → CONCENTRACION: 3.00, Clima: [16.0, 14.8, 94.0, 20.5, 0.0], Cíclicas: [0.259, -0.966, 0.434, -0.901, 0.5, 0.866, -0.643, -0.766]\n",
            "  t-11 (2014-01-02 12:00:00) → CONCENTRACION: 2.00, Clima: [16.4, 14.0, 88.0, 24.1, 0.0], Cíclicas: [0.0, -1.0, 0.434, -0.901, 0.5, 0.866, -0.643, -0.766]\n",
            "  t-10 (2014-01-02 13:00:00) → CONCENTRACION: 2.00, Clima: [16.0, 14.8, 94.0, 22.3, 0.0], Cíclicas: [-0.259, -0.966, 0.434, -0.901, 0.5, 0.866, -0.643, -0.766]\n",
            "  t-9 (2014-01-02 14:00:00) → CONCENTRACION: 2.00, Clima: [17.0, 14.6, 88.0, 27.7, 0.0], Cíclicas: [-0.5, -0.866, 0.434, -0.901, 0.5, 0.866, -0.643, -0.766]\n",
            "  t-8 (2014-01-02 15:00:00) → CONCENTRACION: 2.00, Clima: [16.8, 14.4, 88.0, 27.7, 0.0], Cíclicas: [-0.707, -0.707, 0.434, -0.901, 0.5, 0.866, -0.643, -0.766]\n",
            "  t-7 (2014-01-02 16:00:00) → CONCENTRACION: 2.00, Clima: [17.0, 14.6, 88.0, 27.7, 0.0], Cíclicas: [-0.866, -0.5, 0.434, -0.901, 0.5, 0.866, -0.643, -0.766]\n",
            "  t-6 (2014-01-02 17:00:00) → CONCENTRACION: 2.00, Clima: [16.0, 16.0, 100.0, 18.4, 0.0], Cíclicas: [-0.966, -0.259, 0.434, -0.901, 0.5, 0.866, -0.766, -0.643]\n",
            "  t-5 (2014-01-02 18:00:00) → CONCENTRACION: 2.00, Clima: [16.1, 14.9, 94.0, 24.1, 0.0], Cíclicas: [-1.0, -0.0, 0.434, -0.901, 0.5, 0.866, -0.643, -0.766]\n",
            "  t-4 (2014-01-02 19:00:00) → CONCENTRACION: 2.00, Clima: [16.0, 16.0, 100.0, 24.1, 0.0], Cíclicas: [-0.966, 0.259, 0.434, -0.901, 0.5, 0.866, -0.643, -0.766]\n",
            "  t-3 (2014-01-02 20:00:00) → CONCENTRACION: 2.00, Clima: [16.0, 16.0, 100.0, 22.3, 0.0], Cíclicas: [-0.866, 0.5, 0.434, -0.901, 0.5, 0.866, -0.643, -0.766]\n",
            "  t-2 (2014-01-02 21:00:00) → CONCENTRACION: 2.00, Clima: [16.1, 14.7, 93.0, 27.7, 0.0], Cíclicas: [-0.707, 0.707, 0.434, -0.901, 0.5, 0.866, -0.5, -0.866]\n",
            "  t-1 (2014-01-02 22:00:00) → CONCENTRACION: 2.00, Clima: [16.0, 16.0, 100.0, 24.1, 0.0], Cíclicas: [-0.5, 0.866, 0.434, -0.901, 0.5, 0.866, -0.643, -0.766]\n",
            "  t0 (2014-01-02 23:00:00) → CONCENTRACION: 2.00, Clima: [16.0, 16.0, 100.0, 22.3, 0.0], Cíclicas: [-0.259, 0.966, 0.434, -0.901, 0.5, 0.866, -0.643, -0.766]\n",
            " Target (t+1) (2014-01-03 00:00:00) → CONCENTRACION: 2.00\n"
          ]
        },
        {
          "output_type": "stream",
          "name": "stderr",
          "text": [
            "/tmp/ipython-input-7-1885871567.py:19: FutureWarning: 'H' is deprecated and will be removed in a future version, please use 'h' instead.\n",
            "  bloque = bloque.asfreq('H')\n",
            "/tmp/ipython-input-7-1885871567.py:19: FutureWarning: 'H' is deprecated and will be removed in a future version, please use 'h' instead.\n",
            "  bloque = bloque.asfreq('H')\n",
            "/tmp/ipython-input-7-1885871567.py:19: FutureWarning: 'H' is deprecated and will be removed in a future version, please use 'h' instead.\n",
            "  bloque = bloque.asfreq('H')\n",
            "/tmp/ipython-input-7-1885871567.py:19: FutureWarning: 'H' is deprecated and will be removed in a future version, please use 'h' instead.\n",
            "  bloque = bloque.asfreq('H')\n",
            "/tmp/ipython-input-7-1885871567.py:19: FutureWarning: 'H' is deprecated and will be removed in a future version, please use 'h' instead.\n",
            "  bloque = bloque.asfreq('H')\n",
            "/tmp/ipython-input-7-1885871567.py:19: FutureWarning: 'H' is deprecated and will be removed in a future version, please use 'h' instead.\n",
            "  bloque = bloque.asfreq('H')\n",
            "/tmp/ipython-input-7-1885871567.py:19: FutureWarning: 'H' is deprecated and will be removed in a future version, please use 'h' instead.\n",
            "  bloque = bloque.asfreq('H')\n",
            "/tmp/ipython-input-7-1885871567.py:19: FutureWarning: 'H' is deprecated and will be removed in a future version, please use 'h' instead.\n",
            "  bloque = bloque.asfreq('H')\n",
            "/tmp/ipython-input-7-1885871567.py:19: FutureWarning: 'H' is deprecated and will be removed in a future version, please use 'h' instead.\n",
            "  bloque = bloque.asfreq('H')\n",
            "/tmp/ipython-input-7-1885871567.py:19: FutureWarning: 'H' is deprecated and will be removed in a future version, please use 'h' instead.\n",
            "  bloque = bloque.asfreq('H')\n",
            "/tmp/ipython-input-7-1885871567.py:19: FutureWarning: 'H' is deprecated and will be removed in a future version, please use 'h' instead.\n",
            "  bloque = bloque.asfreq('H')\n",
            "/tmp/ipython-input-7-1885871567.py:19: FutureWarning: 'H' is deprecated and will be removed in a future version, please use 'h' instead.\n",
            "  bloque = bloque.asfreq('H')\n",
            "/tmp/ipython-input-7-1885871567.py:19: FutureWarning: 'H' is deprecated and will be removed in a future version, please use 'h' instead.\n",
            "  bloque = bloque.asfreq('H')\n",
            "/tmp/ipython-input-7-1885871567.py:19: FutureWarning: 'H' is deprecated and will be removed in a future version, please use 'h' instead.\n",
            "  bloque = bloque.asfreq('H')\n",
            "/tmp/ipython-input-7-1885871567.py:19: FutureWarning: 'H' is deprecated and will be removed in a future version, please use 'h' instead.\n",
            "  bloque = bloque.asfreq('H')\n",
            "/tmp/ipython-input-7-1885871567.py:19: FutureWarning: 'H' is deprecated and will be removed in a future version, please use 'h' instead.\n",
            "  bloque = bloque.asfreq('H')\n",
            "/tmp/ipython-input-7-1885871567.py:19: FutureWarning: 'H' is deprecated and will be removed in a future version, please use 'h' instead.\n",
            "  bloque = bloque.asfreq('H')\n",
            "/tmp/ipython-input-7-1885871567.py:19: FutureWarning: 'H' is deprecated and will be removed in a future version, please use 'h' instead.\n",
            "  bloque = bloque.asfreq('H')\n",
            "/tmp/ipython-input-7-1885871567.py:19: FutureWarning: 'H' is deprecated and will be removed in a future version, please use 'h' instead.\n",
            "  bloque = bloque.asfreq('H')\n",
            "/tmp/ipython-input-7-1885871567.py:19: FutureWarning: 'H' is deprecated and will be removed in a future version, please use 'h' instead.\n",
            "  bloque = bloque.asfreq('H')\n",
            "/tmp/ipython-input-7-1885871567.py:19: FutureWarning: 'H' is deprecated and will be removed in a future version, please use 'h' instead.\n",
            "  bloque = bloque.asfreq('H')\n",
            "/tmp/ipython-input-7-1885871567.py:19: FutureWarning: 'H' is deprecated and will be removed in a future version, please use 'h' instead.\n",
            "  bloque = bloque.asfreq('H')\n",
            "/tmp/ipython-input-7-1885871567.py:19: FutureWarning: 'H' is deprecated and will be removed in a future version, please use 'h' instead.\n",
            "  bloque = bloque.asfreq('H')\n",
            "/tmp/ipython-input-7-1885871567.py:19: FutureWarning: 'H' is deprecated and will be removed in a future version, please use 'h' instead.\n",
            "  bloque = bloque.asfreq('H')\n",
            "/tmp/ipython-input-7-1885871567.py:19: FutureWarning: 'H' is deprecated and will be removed in a future version, please use 'h' instead.\n",
            "  bloque = bloque.asfreq('H')\n",
            "/tmp/ipython-input-7-1885871567.py:19: FutureWarning: 'H' is deprecated and will be removed in a future version, please use 'h' instead.\n",
            "  bloque = bloque.asfreq('H')\n",
            "/tmp/ipython-input-7-1885871567.py:19: FutureWarning: 'H' is deprecated and will be removed in a future version, please use 'h' instead.\n",
            "  bloque = bloque.asfreq('H')\n",
            "/tmp/ipython-input-7-1885871567.py:19: FutureWarning: 'H' is deprecated and will be removed in a future version, please use 'h' instead.\n",
            "  bloque = bloque.asfreq('H')\n",
            "/tmp/ipython-input-7-1885871567.py:19: FutureWarning: 'H' is deprecated and will be removed in a future version, please use 'h' instead.\n",
            "  bloque = bloque.asfreq('H')\n",
            "/tmp/ipython-input-7-1885871567.py:19: FutureWarning: 'H' is deprecated and will be removed in a future version, please use 'h' instead.\n",
            "  bloque = bloque.asfreq('H')\n",
            "/tmp/ipython-input-7-1885871567.py:19: FutureWarning: 'H' is deprecated and will be removed in a future version, please use 'h' instead.\n",
            "  bloque = bloque.asfreq('H')\n",
            "/tmp/ipython-input-7-1885871567.py:19: FutureWarning: 'H' is deprecated and will be removed in a future version, please use 'h' instead.\n",
            "  bloque = bloque.asfreq('H')\n",
            "/tmp/ipython-input-7-1885871567.py:19: FutureWarning: 'H' is deprecated and will be removed in a future version, please use 'h' instead.\n",
            "  bloque = bloque.asfreq('H')\n",
            "/tmp/ipython-input-7-1885871567.py:19: FutureWarning: 'H' is deprecated and will be removed in a future version, please use 'h' instead.\n",
            "  bloque = bloque.asfreq('H')\n",
            "/tmp/ipython-input-7-1885871567.py:19: FutureWarning: 'H' is deprecated and will be removed in a future version, please use 'h' instead.\n",
            "  bloque = bloque.asfreq('H')\n",
            "/tmp/ipython-input-7-1885871567.py:19: FutureWarning: 'H' is deprecated and will be removed in a future version, please use 'h' instead.\n",
            "  bloque = bloque.asfreq('H')\n",
            "/tmp/ipython-input-7-1885871567.py:19: FutureWarning: 'H' is deprecated and will be removed in a future version, please use 'h' instead.\n",
            "  bloque = bloque.asfreq('H')\n",
            "/tmp/ipython-input-7-1885871567.py:19: FutureWarning: 'H' is deprecated and will be removed in a future version, please use 'h' instead.\n",
            "  bloque = bloque.asfreq('H')\n",
            "/tmp/ipython-input-7-1885871567.py:19: FutureWarning: 'H' is deprecated and will be removed in a future version, please use 'h' instead.\n",
            "  bloque = bloque.asfreq('H')\n",
            "/tmp/ipython-input-7-1885871567.py:19: FutureWarning: 'H' is deprecated and will be removed in a future version, please use 'h' instead.\n",
            "  bloque = bloque.asfreq('H')\n",
            "/tmp/ipython-input-7-1885871567.py:19: FutureWarning: 'H' is deprecated and will be removed in a future version, please use 'h' instead.\n",
            "  bloque = bloque.asfreq('H')\n"
          ]
        },
        {
          "output_type": "stream",
          "name": "stdout",
          "text": [
            "\n",
            " Total de secuencias generadas: 74935\n"
          ]
        }
      ],
      "source": [
        "columnas_X = ['CONCENTRACION', 'hora_sin', 'hora_cos', 'dia_semana_sin', 'dia_semana_cos',\n",
        "              'mes_sin', 'mes_cos', 'temp', 'dwpt', 'rhum', 'wdir_sin','wdir_cos', 'wspd','prcp']\n",
        "\n",
        "from sklearn.preprocessing import MinMaxScaler\n",
        "from sklearn.preprocessing import RobustScaler\n",
        "\n",
        "# Crear scaler conjunto para NO2 + clima\n",
        "columnas_ciclicas = [col for col in columnas_X if 'sin' in col or 'cos' in col]\n",
        "columnas_continuas = [col for col in columnas_X if col not in columnas_ciclicas]\n",
        "\n",
        "scaler_continuas = RobustScaler()\n",
        "scaler_continuas.fit(df[columnas_continuas])\n",
        "\n",
        "# Crear secuencias\n",
        "X, y = crear_secuencias_multivariadas_debug(\n",
        "    bloques_filtrados, columnas_X, window_size=24, scaler_continuas=scaler_continuas\n",
        ")\n"
      ]
    },
    {
      "cell_type": "code",
      "execution_count": null,
      "metadata": {
        "id": "4nINVWad5hRZ"
      },
      "outputs": [],
      "source": [
        "\n",
        "\n",
        "X_train, X_test, y_train, y_test = train_test_split(\n",
        "    X, y, test_size=0.2, shuffle=False  # sin mezcla por ser serie temporal\n",
        ")"
      ]
    },
    {
      "cell_type": "code",
      "execution_count": null,
      "metadata": {
        "id": "q8OiKRGMiTWX"
      },
      "outputs": [],
      "source": [
        "y_test = y_test[48:] # PARA EVITAR SOLAPAMIENTO\n",
        "X_test = X_test[48:]"
      ]
    },
    {
      "cell_type": "code",
      "execution_count": null,
      "metadata": {
        "id": "3LtezoR6oOvH"
      },
      "outputs": [],
      "source": [
        "bloques_2023 = dividir_en_bloques_continuos(df_2023)\n",
        "bloques_2023 = [b for b in bloques_2023 if len(b) > 24]"
      ]
    },
    {
      "cell_type": "code",
      "execution_count": null,
      "metadata": {
        "colab": {
          "base_uri": "https://localhost:8080/"
        },
        "id": "rjPcYOxHoKtk",
        "outputId": "99919b24-ec82-48e9-a731-f1508c0066c9"
      },
      "outputs": [
        {
          "output_type": "stream",
          "name": "stdout",
          "text": [
            "\n",
            " Bloque 0 — Primera secuencia generada:\n",
            "  t-23 (2023-01-03 00:00:00) → CONCENTRACION: 3.00, Clima: [9.9, 9.9, 100.0, 7.6, 0.0], Cíclicas: [0.0, 1.0, 0.782, 0.623, 0.5, 0.866, -0.174, 0.985]\n",
            "  t-22 (2023-01-03 01:00:00) → CONCENTRACION: 2.00, Clima: [9.4, 9.2, 99.0, 0.0, 0.0], Cíclicas: [0.259, 0.966, 0.782, 0.623, 0.5, 0.866, 0.0, 1.0]\n",
            "  t-21 (2023-01-03 02:00:00) → CONCENTRACION: 2.00, Clima: [9.0, 9.0, 100.0, 3.6, 0.0], Cíclicas: [0.5, 0.866, 0.782, 0.623, 0.5, 0.866, 0.342, 0.94]\n",
            "  t-20 (2023-01-03 03:00:00) → CONCENTRACION: 2.00, Clima: [8.7, 8.3, 98.0, 3.6, 0.0], Cíclicas: [0.707, 0.707, 0.782, 0.623, 0.5, 0.866, 0.174, 0.985]\n",
            "  t-19 (2023-01-03 04:00:00) → CONCENTRACION: 2.00, Clima: [8.2, 7.4, 96.0, 5.4, 0.0], Cíclicas: [0.866, 0.5, 0.782, 0.623, 0.5, 0.866, -0.5, 0.866]\n",
            "  t-18 (2023-01-03 05:00:00) → CONCENTRACION: 3.00, Clima: [8.7, 7.1, 92.0, 11.2, 0.0], Cíclicas: [0.966, 0.259, 0.782, 0.623, 0.5, 0.866, -0.174, 0.985]\n",
            "  t-17 (2023-01-03 06:00:00) → CONCENTRACION: 3.00, Clima: [8.1, 6.5, 92.0, 13.0, 0.0], Cíclicas: [1.0, 0.0, 0.782, 0.623, 0.5, 0.866, 0.342, 0.94]\n",
            "  t-16 (2023-01-03 07:00:00) → CONCENTRACION: 3.00, Clima: [7.6, 6.2, 93.0, 11.2, 0.0], Cíclicas: [0.966, -0.259, 0.782, 0.623, 0.5, 0.866, 0.5, 0.866]\n",
            "  t-15 (2023-01-03 08:00:00) → CONCENTRACION: 3.00, Clima: [8.0, 5.8, 89.0, 9.4, 0.0], Cíclicas: [0.866, -0.5, 0.782, 0.623, 0.5, 0.866, 0.766, 0.643]\n",
            "  t-14 (2023-01-03 09:00:00) → CONCENTRACION: 3.00, Clima: [9.3, 6.5, 86.0, 9.4, 0.0], Cíclicas: [0.707, -0.707, 0.782, 0.623, 0.5, 0.866, 0.5, 0.866]\n",
            "  t-13 (2023-01-03 10:00:00) → CONCENTRACION: 3.00, Clima: [11.4, 6.8, 77.0, 14.8, 0.0], Cíclicas: [0.5, -0.866, 0.782, 0.623, 0.5, 0.866, 0.5, 0.866]\n",
            "  t-12 (2023-01-03 11:00:00) → CONCENTRACION: 3.00, Clima: [12.5, 6.5, 70.0, 13.0, 0.0], Cíclicas: [0.259, -0.966, 0.782, 0.623, 0.5, 0.866, 0.5, 0.866]\n",
            "  t-11 (2023-01-03 12:00:00) → CONCENTRACION: 3.00, Clima: [13.7, 6.9, 66.0, 13.0, 0.0], Cíclicas: [0.0, -1.0, 0.782, 0.623, 0.5, 0.866, 0.766, 0.643]\n",
            "  t-10 (2023-01-03 13:00:00) → CONCENTRACION: 3.00, Clima: [14.6, 9.6, 75.0, 13.0, 0.0], Cíclicas: [-0.259, -0.966, 0.782, 0.623, 0.5, 0.866, 0.866, 0.5]\n",
            "  t-9 (2023-01-03 14:00:00) → CONCENTRACION: 3.00, Clima: [16.0, 11.0, 75.0, 11.2, 0.0], Cíclicas: [-0.5, -0.866, 0.782, 0.623, 0.5, 0.866, 0.866, 0.5]\n",
            "  t-8 (2023-01-03 15:00:00) → CONCENTRACION: 2.00, Clima: [16.2, 10.4, 71.0, 13.0, 0.0], Cíclicas: [-0.707, -0.707, 0.782, 0.623, 0.5, 0.866, 0.866, 0.5]\n",
            "  t-7 (2023-01-03 16:00:00) → CONCENTRACION: 3.00, Clima: [16.2, 11.6, 77.0, 11.2, 0.0], Cíclicas: [-0.866, -0.5, 0.782, 0.623, 0.5, 0.866, 0.766, 0.643]\n",
            "  t-6 (2023-01-03 17:00:00) → CONCENTRACION: 3.00, Clima: [15.4, 11.8, 82.0, 5.4, 0.0], Cíclicas: [-0.966, -0.259, 0.782, 0.623, 0.5, 0.866, 0.985, 0.174]\n",
            "  t-5 (2023-01-03 18:00:00) → CONCENTRACION: 3.00, Clima: [14.0, 12.0, 90.0, 0.0, 0.0], Cíclicas: [-1.0, -0.0, 0.782, 0.623, 0.5, 0.866, 0.0, 1.0]\n",
            "  t-4 (2023-01-03 19:00:00) → CONCENTRACION: 3.00, Clima: [13.0, 12.4, 97.0, 5.4, 0.0], Cíclicas: [-0.966, 0.259, 0.782, 0.623, 0.5, 0.866, 0.643, -0.766]\n",
            "  t-3 (2023-01-03 20:00:00) → CONCENTRACION: 4.00, Clima: [12.7, 11.9, 96.0, 9.4, 0.0], Cíclicas: [-0.866, 0.5, 0.782, 0.623, 0.5, 0.866, 0.5, 0.866]\n",
            "  t-2 (2023-01-03 21:00:00) → CONCENTRACION: 3.00, Clima: [12.1, 11.7, 98.0, 11.2, 0.0], Cíclicas: [-0.707, 0.707, 0.782, 0.623, 0.5, 0.866, 0.643, 0.766]\n",
            "  t-1 (2023-01-03 22:00:00) → CONCENTRACION: 3.00, Clima: [11.0, 8.8, 89.0, 9.4, 0.0], Cíclicas: [-0.5, 0.866, 0.782, 0.623, 0.5, 0.866, 0.866, 0.5]\n",
            "  t0 (2023-01-03 23:00:00) → CONCENTRACION: 3.00, Clima: [10.0, 7.4, 87.0, 9.4, 0.0], Cíclicas: [-0.259, 0.966, 0.782, 0.623, 0.5, 0.866, 0.766, 0.643]\n",
            " Target (t+1) (2023-01-04 00:00:00) → CONCENTRACION: 3.00\n",
            "\n",
            " Total de secuencias generadas: 8687\n"
          ]
        },
        {
          "output_type": "stream",
          "name": "stderr",
          "text": [
            "/tmp/ipython-input-7-1885871567.py:19: FutureWarning: 'H' is deprecated and will be removed in a future version, please use 'h' instead.\n",
            "  bloque = bloque.asfreq('H')\n"
          ]
        }
      ],
      "source": [
        "X_2023, y_2023 = crear_secuencias_multivariadas_debug(\n",
        "    bloques_2023, columnas_X, window_size=24, scaler_continuas=scaler_continuas\n",
        ")"
      ]
    },
    {
      "cell_type": "markdown",
      "metadata": {
        "id": "OdLLoex3WTIP"
      },
      "source": [
        "# Generación secuencias 24 horas"
      ]
    },
    {
      "cell_type": "code",
      "execution_count": null,
      "metadata": {
        "colab": {
          "base_uri": "https://localhost:8080/"
        },
        "id": "Y7BudNt1XCAG",
        "outputId": "41d966f7-49a4-4de3-d7de-7aed2afa5c95"
      },
      "outputs": [
        {
          "output_type": "stream",
          "name": "stderr",
          "text": [
            "/tmp/ipython-input-8-741046584.py:7: FutureWarning: 'H' is deprecated and will be removed in a future version, please use 'h' instead.\n",
            "  bloque = bloque.asfreq('H')\n",
            "/tmp/ipython-input-8-741046584.py:7: FutureWarning: 'H' is deprecated and will be removed in a future version, please use 'h' instead.\n",
            "  bloque = bloque.asfreq('H')\n",
            "/tmp/ipython-input-8-741046584.py:7: FutureWarning: 'H' is deprecated and will be removed in a future version, please use 'h' instead.\n",
            "  bloque = bloque.asfreq('H')\n",
            "/tmp/ipython-input-8-741046584.py:7: FutureWarning: 'H' is deprecated and will be removed in a future version, please use 'h' instead.\n",
            "  bloque = bloque.asfreq('H')\n",
            "/tmp/ipython-input-8-741046584.py:7: FutureWarning: 'H' is deprecated and will be removed in a future version, please use 'h' instead.\n",
            "  bloque = bloque.asfreq('H')\n",
            "/tmp/ipython-input-8-741046584.py:7: FutureWarning: 'H' is deprecated and will be removed in a future version, please use 'h' instead.\n",
            "  bloque = bloque.asfreq('H')\n",
            "/tmp/ipython-input-8-741046584.py:7: FutureWarning: 'H' is deprecated and will be removed in a future version, please use 'h' instead.\n",
            "  bloque = bloque.asfreq('H')\n",
            "/tmp/ipython-input-8-741046584.py:7: FutureWarning: 'H' is deprecated and will be removed in a future version, please use 'h' instead.\n",
            "  bloque = bloque.asfreq('H')\n",
            "/tmp/ipython-input-8-741046584.py:7: FutureWarning: 'H' is deprecated and will be removed in a future version, please use 'h' instead.\n",
            "  bloque = bloque.asfreq('H')\n",
            "/tmp/ipython-input-8-741046584.py:7: FutureWarning: 'H' is deprecated and will be removed in a future version, please use 'h' instead.\n",
            "  bloque = bloque.asfreq('H')\n",
            "/tmp/ipython-input-8-741046584.py:7: FutureWarning: 'H' is deprecated and will be removed in a future version, please use 'h' instead.\n",
            "  bloque = bloque.asfreq('H')\n",
            "/tmp/ipython-input-8-741046584.py:7: FutureWarning: 'H' is deprecated and will be removed in a future version, please use 'h' instead.\n",
            "  bloque = bloque.asfreq('H')\n",
            "/tmp/ipython-input-8-741046584.py:7: FutureWarning: 'H' is deprecated and will be removed in a future version, please use 'h' instead.\n",
            "  bloque = bloque.asfreq('H')\n",
            "/tmp/ipython-input-8-741046584.py:7: FutureWarning: 'H' is deprecated and will be removed in a future version, please use 'h' instead.\n",
            "  bloque = bloque.asfreq('H')\n",
            "/tmp/ipython-input-8-741046584.py:7: FutureWarning: 'H' is deprecated and will be removed in a future version, please use 'h' instead.\n",
            "  bloque = bloque.asfreq('H')\n",
            "/tmp/ipython-input-8-741046584.py:7: FutureWarning: 'H' is deprecated and will be removed in a future version, please use 'h' instead.\n",
            "  bloque = bloque.asfreq('H')\n",
            "/tmp/ipython-input-8-741046584.py:7: FutureWarning: 'H' is deprecated and will be removed in a future version, please use 'h' instead.\n",
            "  bloque = bloque.asfreq('H')\n",
            "/tmp/ipython-input-8-741046584.py:7: FutureWarning: 'H' is deprecated and will be removed in a future version, please use 'h' instead.\n",
            "  bloque = bloque.asfreq('H')\n",
            "/tmp/ipython-input-8-741046584.py:7: FutureWarning: 'H' is deprecated and will be removed in a future version, please use 'h' instead.\n",
            "  bloque = bloque.asfreq('H')\n",
            "/tmp/ipython-input-8-741046584.py:7: FutureWarning: 'H' is deprecated and will be removed in a future version, please use 'h' instead.\n",
            "  bloque = bloque.asfreq('H')\n",
            "/tmp/ipython-input-8-741046584.py:7: FutureWarning: 'H' is deprecated and will be removed in a future version, please use 'h' instead.\n",
            "  bloque = bloque.asfreq('H')\n",
            "/tmp/ipython-input-8-741046584.py:7: FutureWarning: 'H' is deprecated and will be removed in a future version, please use 'h' instead.\n",
            "  bloque = bloque.asfreq('H')\n",
            "/tmp/ipython-input-8-741046584.py:7: FutureWarning: 'H' is deprecated and will be removed in a future version, please use 'h' instead.\n",
            "  bloque = bloque.asfreq('H')\n",
            "/tmp/ipython-input-8-741046584.py:7: FutureWarning: 'H' is deprecated and will be removed in a future version, please use 'h' instead.\n",
            "  bloque = bloque.asfreq('H')\n",
            "/tmp/ipython-input-8-741046584.py:7: FutureWarning: 'H' is deprecated and will be removed in a future version, please use 'h' instead.\n",
            "  bloque = bloque.asfreq('H')\n",
            "/tmp/ipython-input-8-741046584.py:7: FutureWarning: 'H' is deprecated and will be removed in a future version, please use 'h' instead.\n",
            "  bloque = bloque.asfreq('H')\n",
            "/tmp/ipython-input-8-741046584.py:7: FutureWarning: 'H' is deprecated and will be removed in a future version, please use 'h' instead.\n",
            "  bloque = bloque.asfreq('H')\n",
            "/tmp/ipython-input-8-741046584.py:7: FutureWarning: 'H' is deprecated and will be removed in a future version, please use 'h' instead.\n",
            "  bloque = bloque.asfreq('H')\n",
            "/tmp/ipython-input-8-741046584.py:7: FutureWarning: 'H' is deprecated and will be removed in a future version, please use 'h' instead.\n",
            "  bloque = bloque.asfreq('H')\n",
            "/tmp/ipython-input-8-741046584.py:7: FutureWarning: 'H' is deprecated and will be removed in a future version, please use 'h' instead.\n",
            "  bloque = bloque.asfreq('H')\n",
            "/tmp/ipython-input-8-741046584.py:7: FutureWarning: 'H' is deprecated and will be removed in a future version, please use 'h' instead.\n",
            "  bloque = bloque.asfreq('H')\n",
            "/tmp/ipython-input-8-741046584.py:7: FutureWarning: 'H' is deprecated and will be removed in a future version, please use 'h' instead.\n",
            "  bloque = bloque.asfreq('H')\n",
            "/tmp/ipython-input-8-741046584.py:7: FutureWarning: 'H' is deprecated and will be removed in a future version, please use 'h' instead.\n",
            "  bloque = bloque.asfreq('H')\n",
            "/tmp/ipython-input-8-741046584.py:7: FutureWarning: 'H' is deprecated and will be removed in a future version, please use 'h' instead.\n",
            "  bloque = bloque.asfreq('H')\n",
            "/tmp/ipython-input-8-741046584.py:7: FutureWarning: 'H' is deprecated and will be removed in a future version, please use 'h' instead.\n",
            "  bloque = bloque.asfreq('H')\n",
            "/tmp/ipython-input-8-741046584.py:7: FutureWarning: 'H' is deprecated and will be removed in a future version, please use 'h' instead.\n",
            "  bloque = bloque.asfreq('H')\n",
            "/tmp/ipython-input-8-741046584.py:7: FutureWarning: 'H' is deprecated and will be removed in a future version, please use 'h' instead.\n",
            "  bloque = bloque.asfreq('H')\n",
            "/tmp/ipython-input-8-741046584.py:7: FutureWarning: 'H' is deprecated and will be removed in a future version, please use 'h' instead.\n",
            "  bloque = bloque.asfreq('H')\n",
            "/tmp/ipython-input-8-741046584.py:7: FutureWarning: 'H' is deprecated and will be removed in a future version, please use 'h' instead.\n",
            "  bloque = bloque.asfreq('H')\n",
            "/tmp/ipython-input-8-741046584.py:7: FutureWarning: 'H' is deprecated and will be removed in a future version, please use 'h' instead.\n",
            "  bloque = bloque.asfreq('H')\n",
            "/tmp/ipython-input-8-741046584.py:7: FutureWarning: 'H' is deprecated and will be removed in a future version, please use 'h' instead.\n",
            "  bloque = bloque.asfreq('H')\n"
          ]
        },
        {
          "output_type": "stream",
          "name": "stdout",
          "text": [
            "\n",
            " Total de secuencias generadas: 74033 | Salidas por muestra: 24\n"
          ]
        }
      ],
      "source": [
        "X_24, y_24 = crear_secuencias_multisalida(bloques_filtrados, columnas_X, window_size=24, horizon=24, scaler_continuas=scaler_continuas)"
      ]
    },
    {
      "cell_type": "code",
      "execution_count": null,
      "metadata": {
        "id": "uJTXQb5kXJ6B"
      },
      "outputs": [],
      "source": [
        "from sklearn.model_selection import train_test_split\n",
        "\n",
        "X_train_24, X_test_24, y_train_24, y_test_24 = train_test_split(\n",
        "    X_24, y_24, test_size=0.2, shuffle=False  # sin shuffle para mantener la secuencia temporal\n",
        ")\n"
      ]
    },
    {
      "cell_type": "code",
      "execution_count": null,
      "metadata": {
        "id": "IikzQfdo4w7J"
      },
      "outputs": [],
      "source": [
        "y_test_24 = y_test_24[48:] # PARA EVITAR SOLAPAMIENTO\n",
        "X_test_24 = X_test_24[48:]"
      ]
    },
    {
      "cell_type": "code",
      "execution_count": null,
      "metadata": {
        "colab": {
          "base_uri": "https://localhost:8080/"
        },
        "id": "iKZ9aNW6MFAH",
        "outputId": "bad1b49f-beb0-46ba-ba4e-8a1a87dfee32"
      },
      "outputs": [
        {
          "output_type": "stream",
          "name": "stdout",
          "text": [
            "\n",
            " Total de secuencias generadas: 8665 | Salidas por muestra: 24\n"
          ]
        },
        {
          "output_type": "stream",
          "name": "stderr",
          "text": [
            "/tmp/ipython-input-8-741046584.py:7: FutureWarning: 'H' is deprecated and will be removed in a future version, please use 'h' instead.\n",
            "  bloque = bloque.asfreq('H')\n"
          ]
        }
      ],
      "source": [
        "X_2023_24, y_2023_24 = crear_secuencias_multisalida(bloques_2023, columnas_X, window_size=24, horizon=24, scaler_continuas=scaler_continuas)"
      ]
    },
    {
      "cell_type": "markdown",
      "metadata": {
        "id": "UjOv6BmtUta4"
      },
      "source": [
        "#LSTM predicción 1 hora"
      ]
    },
    {
      "cell_type": "code",
      "execution_count": null,
      "metadata": {
        "colab": {
          "base_uri": "https://localhost:8080/"
        },
        "id": "3ClWIH3qYiBC",
        "outputId": "b4d375ba-13be-4f85-b64e-42a2519e2b58"
      },
      "outputs": [
        {
          "output_type": "stream",
          "name": "stdout",
          "text": [
            "\n",
            "🔁 Entrenando modelo: Simple_LSTM\n"
          ]
        },
        {
          "output_type": "stream",
          "name": "stderr",
          "text": [
            "/usr/local/lib/python3.11/dist-packages/keras/src/layers/rnn/rnn.py:200: UserWarning: Do not pass an `input_shape`/`input_dim` argument to a layer. When using Sequential models, prefer using an `Input(shape)` object as the first layer in the model instead.\n",
            "  super().__init__(**kwargs)\n"
          ]
        },
        {
          "output_type": "stream",
          "name": "stdout",
          "text": [
            "\u001b[1m272/272\u001b[0m \u001b[32m━━━━━━━━━━━━━━━━━━━━\u001b[0m\u001b[37m\u001b[0m \u001b[1m1s\u001b[0m 2ms/step\n",
            "✅ Simple_LSTM - Val MSE: 0.2993, Val MAE: 0.2493\n",
            "📊 Simple_LSTM - 2023 RMSE: 0.3954, MAE: 0.2587, R²: 0.7009\n",
            "\n",
            "🔁 Entrenando modelo: Stacked_LSTM\n"
          ]
        },
        {
          "output_type": "stream",
          "name": "stderr",
          "text": [
            "/usr/local/lib/python3.11/dist-packages/keras/src/layers/rnn/rnn.py:200: UserWarning: Do not pass an `input_shape`/`input_dim` argument to a layer. When using Sequential models, prefer using an `Input(shape)` object as the first layer in the model instead.\n",
            "  super().__init__(**kwargs)\n"
          ]
        },
        {
          "output_type": "stream",
          "name": "stdout",
          "text": [
            "\u001b[1m272/272\u001b[0m \u001b[32m━━━━━━━━━━━━━━━━━━━━\u001b[0m\u001b[37m\u001b[0m \u001b[1m1s\u001b[0m 3ms/step\n",
            "✅ Stacked_LSTM - Val MSE: 0.3083, Val MAE: 0.2572\n",
            "📊 Stacked_LSTM - 2023 RMSE: 0.4038, MAE: 0.2732, R²: 0.6880\n",
            "\n",
            "🔁 Entrenando modelo: Dropout_Dense_LSTM\n"
          ]
        },
        {
          "output_type": "stream",
          "name": "stderr",
          "text": [
            "/usr/local/lib/python3.11/dist-packages/keras/src/layers/rnn/rnn.py:200: UserWarning: Do not pass an `input_shape`/`input_dim` argument to a layer. When using Sequential models, prefer using an `Input(shape)` object as the first layer in the model instead.\n",
            "  super().__init__(**kwargs)\n"
          ]
        },
        {
          "output_type": "stream",
          "name": "stdout",
          "text": [
            "\u001b[1m272/272\u001b[0m \u001b[32m━━━━━━━━━━━━━━━━━━━━\u001b[0m\u001b[37m\u001b[0m \u001b[1m1s\u001b[0m 3ms/step\n",
            "✅ Dropout_Dense_LSTM - Val MSE: 0.2871, Val MAE: 0.2496\n",
            "📊 Dropout_Dense_LSTM - 2023 RMSE: 0.3882, MAE: 0.2482, R²: 0.7116\n"
          ]
        }
      ],
      "source": [
        "\n",
        "# DEFINICIÓN DE MODELOS\n",
        "\n",
        "def build_simple_lstm(input_shape):\n",
        "    model = Sequential([\n",
        "        LSTM(64, input_shape=input_shape),\n",
        "        Dense(1)\n",
        "    ])\n",
        "    return model\n",
        "\n",
        "def build_stacked_lstm(input_shape):\n",
        "    model = Sequential([\n",
        "        LSTM(64, return_sequences=True, input_shape=input_shape),\n",
        "        LSTM(32),\n",
        "        Dense(1)\n",
        "    ])\n",
        "    return model\n",
        "\n",
        "def build_dropout_dense_lstm(input_shape):\n",
        "    model = Sequential([\n",
        "        LSTM(128, return_sequences=True, input_shape=input_shape),\n",
        "        Dropout(0.2),\n",
        "        LSTM(64),\n",
        "        Dropout(0.2),\n",
        "        Dense(32, activation='relu'),\n",
        "        Dense(1)\n",
        "    ])\n",
        "    return model\n",
        "\n",
        "# CONFIGURACIÓN DE MODELOS A EVALUAR\n",
        "\n",
        "model_builders = {\n",
        "    'Simple_LSTM': build_simple_lstm,\n",
        "    'Stacked_LSTM': build_stacked_lstm,\n",
        "    'Dropout_Dense_LSTM': build_dropout_dense_lstm\n",
        "}\n",
        "\n",
        "# ENTRENAMIENTO Y VALIDACIÓN\n",
        "\n",
        "results = {}\n",
        "\n",
        "for name, build_fn in model_builders.items():\n",
        "    print(f\"\\n Entrenando modelo: {name}\")\n",
        "    model = build_fn(input_shape=X_train.shape[1:])\n",
        "\n",
        "    model.compile(optimizer='adam', loss='mse', metrics=['mae'])\n",
        "\n",
        "    es = EarlyStopping(monitor='val_loss', patience=5, restore_best_weights=True)\n",
        "\n",
        "    history = model.fit(\n",
        "        X_train, y_train,\n",
        "        validation_data=(X_test, y_test),\n",
        "        epochs=50,\n",
        "        batch_size=32,\n",
        "        callbacks=[es],\n",
        "        verbose=0\n",
        "    )\n",
        "\n",
        "\n",
        "    # VALIDACIÓN INTERMEDIA (val)\n",
        "\n",
        "    val_loss, val_mae = model.evaluate(X_test, y_test, verbose=0)\n",
        "\n",
        "\n",
        "    # PREDICCIÓN FINAL EN 2023\n",
        "\n",
        "    y_pred_2023 = model.predict(X_2023).flatten()\n",
        "\n",
        "    # Desescalado para comparación en unidades reales\n",
        "    y_test_input_2023 = np.hstack([\n",
        "        y_2023.reshape(-1, 1),\n",
        "        np.zeros((len(y_2023), len(columnas_continuas) - 1))\n",
        "    ])\n",
        "\n",
        "    y_pred_input_2023 = np.hstack([\n",
        "        y_pred_2023.reshape(-1, 1),\n",
        "        np.zeros((len(y_pred_2023), len(columnas_continuas) - 1))\n",
        "    ])\n",
        "\n",
        "    y_test_inv_2023 = scaler_continuas.inverse_transform(y_test_input_2023)[:, 0]\n",
        "    y_pred_inv_2023 = scaler_continuas.inverse_transform(y_pred_input_2023)[:, 0]\n",
        "\n",
        "    # Métricas finales\n",
        "    rmse_2023 = np.sqrt(mean_squared_error(y_test_inv_2023, y_pred_inv_2023))\n",
        "    mae_2023 = mean_absolute_error(y_test_inv_2023, y_pred_inv_2023)\n",
        "    r2_2023 = r2_score(y_test_inv_2023, y_pred_inv_2023)\n",
        "\n",
        "\n",
        "    # GUARDAR RESULTADOS\n",
        "\n",
        "    results[name] = {\n",
        "    'val_loss': val_loss,\n",
        "    'val_mae': val_mae,\n",
        "    'rmse_2023': rmse_2023,\n",
        "    'mae_2023': mae_2023,\n",
        "    'r2_2023': r2_2023,\n",
        "    'y_test': y_test_inv_2023,\n",
        "    'y_pred': y_pred_inv_2023,\n",
        "    'history': history\n",
        "    }\n",
        "\n",
        "    print(f\" {name} - Val MSE: {val_loss:.4f}, Val MAE: {val_mae:.4f}\")\n",
        "    print(f\" {name} - 2023 RMSE: {rmse_2023:.4f}, MAE: {mae_2023:.4f}, R²: {r2_2023:.4f}\")\n"
      ]
    },
    {
      "cell_type": "code",
      "execution_count": null,
      "metadata": {
        "id": "hMexJKTQc5UO"
      },
      "outputs": [],
      "source": [
        "mejor_modelo = max(results, key=lambda k: results[k]['r2_2023'])\n",
        "y_pred_inv_2023 = results[mejor_modelo]['y_pred']\n",
        "y_test_inv_2023 = results[mejor_modelo]['y_test']"
      ]
    },
    {
      "cell_type": "code",
      "execution_count": null,
      "metadata": {
        "id": "KQ4RuXDZRy3C"
      },
      "outputs": [],
      "source": [
        "bloques_2023_plot = detectar_bloques_continuos(df_2023, 20)\n",
        "bloque_2023_plot = bloques_2023_plot[0]"
      ]
    },
    {
      "cell_type": "code",
      "execution_count": null,
      "metadata": {
        "id": "Y8kpPsDTTSYc"
      },
      "outputs": [],
      "source": [
        "\n",
        "# Obtenemos los índices del bloque\n",
        "indices_bloque = bloque_2023_plot.index\n",
        "\n",
        "# Buscamos las posiciones en el DataFrame original\n",
        "posiciones = df_2023.index.get_indexer(indices_bloque)\n",
        "validas = posiciones[posiciones < len(y_pred_inv_2023)]\n",
        "#obtenemos las predicciones correspondientes\n",
        "predicciones_bloque = y_pred_inv_2023[validas]\n",
        "real_bloque = y_test_inv_2023[validas]"
      ]
    },
    {
      "cell_type": "code",
      "execution_count": null,
      "metadata": {
        "id": "dFSuLCH4TvAq",
        "colab": {
          "base_uri": "https://localhost:8080/"
        },
        "outputId": "754ed5fc-e1b5-474f-e188-9e4272ad3ceb"
      },
      "outputs": [
        {
          "output_type": "display_data",
          "data": {
            "text/plain": [
              "<Figure size 1400x500 with 1 Axes>"
            ],
            "image/png": "[encoded data removed]"
          },
          "metadata": {}
        }
      ],
      "source": [
        "import matplotlib.pyplot as plt\n",
        "\n",
        "plt.figure(figsize=(14, 5))\n",
        "plt.plot(real_bloque[:360], label='Real')\n",
        "plt.plot(predicciones_bloque[:360], label='Predicho')\n",
        "plt.title(\"Predicción de hora siguiente de \" + contaminante +\" en la estación \" + str(estacion) + \" a lo largo de 15 días (2023)\")\n",
        "plt.xlabel(\"Instante de tiempo t + X\")\n",
        "plt.ylabel(\"Concentración (μg/m³)\")\n",
        "plt.legend()\n",
        "plt.grid(True)\n",
        "plt.show()"
      ]
    },
    {
      "cell_type": "markdown",
      "metadata": {
        "id": "p37Hn2vydSsb"
      },
      "source": [
        "#GRU predicción 1 hora"
      ]
    },
    {
      "cell_type": "code",
      "execution_count": null,
      "metadata": {
        "id": "esFEV5oKdSsb",
        "colab": {
          "base_uri": "https://localhost:8080/"
        },
        "outputId": "7e95bf4f-a137-4469-bd15-cd361327414e"
      },
      "outputs": [
        {
          "output_type": "stream",
          "name": "stdout",
          "text": [
            "\n",
            "🔁 Entrenando modelo: Simple_GRU\n"
          ]
        },
        {
          "output_type": "stream",
          "name": "stderr",
          "text": [
            "/usr/local/lib/python3.11/dist-packages/keras/src/layers/rnn/rnn.py:200: UserWarning: Do not pass an `input_shape`/`input_dim` argument to a layer. When using Sequential models, prefer using an `Input(shape)` object as the first layer in the model instead.\n",
            "  super().__init__(**kwargs)\n"
          ]
        },
        {
          "output_type": "stream",
          "name": "stdout",
          "text": [
            "\u001b[1m272/272\u001b[0m \u001b[32m━━━━━━━━━━━━━━━━━━━━\u001b[0m\u001b[37m\u001b[0m \u001b[1m1s\u001b[0m 2ms/step\n",
            "✅ Simple_GRU - Val MSE: 0.3023, Val MAE: 0.2489\n",
            "📊 Simple_GRU - 2023 RMSE: 0.3845, MAE: 0.2475, R²: 0.7171\n",
            "\n",
            "🔁 Entrenando modelo: Stacked_GRU\n"
          ]
        },
        {
          "output_type": "stream",
          "name": "stderr",
          "text": [
            "/usr/local/lib/python3.11/dist-packages/keras/src/layers/rnn/rnn.py:200: UserWarning: Do not pass an `input_shape`/`input_dim` argument to a layer. When using Sequential models, prefer using an `Input(shape)` object as the first layer in the model instead.\n",
            "  super().__init__(**kwargs)\n"
          ]
        },
        {
          "output_type": "stream",
          "name": "stdout",
          "text": [
            "\u001b[1m272/272\u001b[0m \u001b[32m━━━━━━━━━━━━━━━━━━━━\u001b[0m\u001b[37m\u001b[0m \u001b[1m1s\u001b[0m 3ms/step\n",
            "✅ Stacked_GRU - Val MSE: 0.3084, Val MAE: 0.2390\n",
            "📊 Stacked_GRU - 2023 RMSE: 0.3851, MAE: 0.2488, R²: 0.7163\n",
            "\n",
            "🔁 Entrenando modelo: Dropout_Dense_GRU\n"
          ]
        },
        {
          "output_type": "stream",
          "name": "stderr",
          "text": [
            "/usr/local/lib/python3.11/dist-packages/keras/src/layers/rnn/rnn.py:200: UserWarning: Do not pass an `input_shape`/`input_dim` argument to a layer. When using Sequential models, prefer using an `Input(shape)` object as the first layer in the model instead.\n",
            "  super().__init__(**kwargs)\n"
          ]
        },
        {
          "output_type": "stream",
          "name": "stdout",
          "text": [
            "\u001b[1m272/272\u001b[0m \u001b[32m━━━━━━━━━━━━━━━━━━━━\u001b[0m\u001b[37m\u001b[0m \u001b[1m1s\u001b[0m 3ms/step\n",
            "✅ Dropout_Dense_GRU - Val MSE: 0.3077, Val MAE: 0.2426\n",
            "📊 Dropout_Dense_GRU - 2023 RMSE: 0.3964, MAE: 0.2546, R²: 0.6993\n"
          ]
        }
      ],
      "source": [
        "# DEFINICIÓN DE MODELOS\n",
        "\n",
        "def build_simple_gru(input_shape):\n",
        "    model = Sequential([\n",
        "        GRU(64, input_shape=input_shape),\n",
        "        Dense(1)\n",
        "    ])\n",
        "    return model\n",
        "\n",
        "def build_stacked_gru(input_shape):\n",
        "    model = Sequential([\n",
        "        GRU(64, return_sequences=True, input_shape=input_shape),\n",
        "        GRU(32),\n",
        "        Dense(1)\n",
        "    ])\n",
        "    return model\n",
        "\n",
        "def build_dropout_dense_gru(input_shape):\n",
        "    model = Sequential([\n",
        "        GRU(128, return_sequences=True, input_shape=input_shape),\n",
        "        Dropout(0.2),\n",
        "        GRU(64),\n",
        "        Dropout(0.2),\n",
        "        Dense(32, activation='relu'),\n",
        "        Dense(1)\n",
        "    ])\n",
        "    return model\n",
        "\n",
        "\n",
        "# CONFIGURACIÓN DE MODELOS A EVALUAR\n",
        "\n",
        "model_builders = {\n",
        "    'Simple_GRU': build_simple_gru,\n",
        "    'Stacked_GRU': build_stacked_gru,\n",
        "    'Dropout_Dense_GRU': build_dropout_dense_gru\n",
        "}\n",
        "\n",
        "\n",
        "# ENTRENAMIENTO Y VALIDACIÓN\n",
        "\n",
        "results = {}\n",
        "\n",
        "for name, build_fn in model_builders.items():\n",
        "    print(f\"\\n Entrenando modelo: {name}\")\n",
        "    model = build_fn(input_shape=X_train.shape[1:])\n",
        "\n",
        "    model.compile(optimizer='adam', loss='mse', metrics=['mae'])\n",
        "\n",
        "    es = EarlyStopping(monitor='val_loss', patience=5, restore_best_weights=True)\n",
        "\n",
        "    history = model.fit(\n",
        "        X_train, y_train,\n",
        "        validation_data=(X_test, y_test),\n",
        "        epochs=50,\n",
        "        batch_size=32,\n",
        "        callbacks=[es],\n",
        "        verbose=0\n",
        "    )\n",
        "\n",
        "\n",
        "    # VALIDACIÓN INTERMEDIA (val)\n",
        "\n",
        "    val_loss, val_mae = model.evaluate(X_test, y_test, verbose=0)\n",
        "\n",
        "\n",
        "    # PREDICCIÓN FINAL EN 2023\n",
        "\n",
        "    y_pred_2023 = model.predict(X_2023).flatten()\n",
        "\n",
        "    # Desescalado para comparación en unidades reales\n",
        "    y_test_input_2023 = np.hstack([\n",
        "        y_2023.reshape(-1, 1),\n",
        "        np.zeros((len(y_2023), len(columnas_continuas) - 1))\n",
        "    ])\n",
        "\n",
        "    y_pred_input_2023 = np.hstack([\n",
        "        y_pred_2023.reshape(-1, 1),\n",
        "        np.zeros((len(y_pred_2023), len(columnas_continuas) - 1))\n",
        "    ])\n",
        "\n",
        "    y_test_inv_2023 = scaler_continuas.inverse_transform(y_test_input_2023)[:, 0]\n",
        "    y_pred_inv_2023 = scaler_continuas.inverse_transform(y_pred_input_2023)[:, 0]\n",
        "\n",
        "    # Métricas finales\n",
        "    rmse_2023 = np.sqrt(mean_squared_error(y_test_inv_2023, y_pred_inv_2023))\n",
        "    mae_2023 = mean_absolute_error(y_test_inv_2023, y_pred_inv_2023)\n",
        "    r2_2023 = r2_score(y_test_inv_2023, y_pred_inv_2023)\n",
        "\n",
        "\n",
        "    # GUARDAR RESULTADOS\n",
        "\n",
        "    results[name] = {\n",
        "    'val_loss': val_loss,\n",
        "    'val_mae': val_mae,\n",
        "    'rmse_2023': rmse_2023,\n",
        "    'mae_2023': mae_2023,\n",
        "    'r2_2023': r2_2023,\n",
        "    'y_test': y_test_inv_2023,\n",
        "    'y_pred': y_pred_inv_2023,\n",
        "    'history': history\n",
        "    }\n",
        "\n",
        "    print(f\" {name} - Val MSE: {val_loss:.4f}, Val MAE: {val_mae:.4f}\")\n",
        "    print(f\" {name} - 2023 RMSE: {rmse_2023:.4f}, MAE: {mae_2023:.4f}, R²: {r2_2023:.4f}\")\n"
      ]
    },
    {
      "cell_type": "code",
      "execution_count": null,
      "metadata": {
        "id": "rVpdh3hkdSsc"
      },
      "outputs": [],
      "source": [
        "mejor_modelo = max(results, key=lambda k: results[k]['r2_2023'])\n",
        "y_pred_inv_2023 = results[mejor_modelo]['y_pred']\n",
        "y_test_inv_2023 = results[mejor_modelo]['y_test']"
      ]
    },
    {
      "cell_type": "code",
      "execution_count": null,
      "metadata": {
        "id": "5JZ5yte3dSsc"
      },
      "outputs": [],
      "source": [
        "bloques_2023_plot = detectar_bloques_continuos(df_2023, 20)\n",
        "bloque_2023_plot = bloques_2023_plot[0]"
      ]
    },
    {
      "cell_type": "code",
      "execution_count": null,
      "metadata": {
        "id": "D_b1fT83dSsd"
      },
      "outputs": [],
      "source": [
        "\n",
        "# Obtenemos los índices del bloque\n",
        "indices_bloque = bloque_2023_plot.index\n",
        "\n",
        "# Buscamos las posiciones en el original\n",
        "posiciones = df_2023.index.get_indexer(indices_bloque)\n",
        "validas = posiciones[posiciones < len(y_pred_inv_2023)]\n",
        "#obtenemos las predicciones correspondientes\n",
        "predicciones_bloque = y_pred_inv_2023[validas]\n",
        "real_bloque = y_test_inv_2023[validas]"
      ]
    },
    {
      "cell_type": "code",
      "execution_count": null,
      "metadata": {
        "id": "kzTd5FaodSsd",
        "colab": {
          "base_uri": "https://localhost:8080/"
        },
        "outputId": "95aec7af-a57b-423a-8dd8-eafa3a72cae2"
      },
      "outputs": [
        {
          "output_type": "display_data",
          "data": {
            "text/plain": [
              "<Figure size 1400x500 with 1 Axes>"
            ],
            "image/png": "[encoded data removed]"
          },
          "metadata": {}
        }
      ],
      "source": [
        "import matplotlib.pyplot as plt\n",
        "\n",
        "plt.figure(figsize=(14, 5))\n",
        "plt.plot(real_bloque[:360], label='Real')\n",
        "plt.plot(predicciones_bloque[:360], label='Predicho')\n",
        "plt.title(\"Predicción de hora siguiente de \" + contaminante +\" en la estación \" + str(estacion) + \" a lo largo de 15 días (2023)\")\n",
        "plt.xlabel(\"Instante de tiempo t + X\")\n",
        "plt.ylabel(\"Concentración (μg/m³)\")\n",
        "plt.legend()\n",
        "plt.grid(True)\n",
        "plt.show()"
      ]
    },
    {
      "cell_type": "markdown",
      "metadata": {
        "id": "qGqXVzhqd-un"
      },
      "source": [
        "#TCN predicción 1 hora"
      ]
    },
    {
      "cell_type": "code",
      "execution_count": null,
      "metadata": {
        "id": "2-XeFxfkd-uo",
        "colab": {
          "base_uri": "https://localhost:8080/"
        },
        "outputId": "86aa0d07-10a7-46d5-c030-202edbad5d86"
      },
      "outputs": [
        {
          "output_type": "stream",
          "name": "stdout",
          "text": [
            "\n",
            "🔁 Entrenando modelo: Simple_TCN\n"
          ]
        },
        {
          "output_type": "stream",
          "name": "stderr",
          "text": [
            "/usr/local/lib/python3.11/dist-packages/tcn/tcn.py:268: UserWarning: Do not pass an `input_shape`/`input_dim` argument to a layer. When using Sequential models, prefer using an `Input(shape)` object as the first layer in the model instead.\n",
            "  super(TCN, self).__init__(**kwargs)\n"
          ]
        },
        {
          "output_type": "stream",
          "name": "stdout",
          "text": [
            "\u001b[1m272/272\u001b[0m \u001b[32m━━━━━━━━━━━━━━━━━━━━\u001b[0m\u001b[37m\u001b[0m \u001b[1m3s\u001b[0m 7ms/step\n",
            "✅ Simple_TCN - Val MSE: 0.2865, Val MAE: 0.2608\n",
            "📊 Simple_TCN - 2023 RMSE: 0.4004, MAE: 0.2694, R²: 0.6932\n",
            "\n",
            "🔁 Entrenando modelo: Stacked_TCN\n"
          ]
        },
        {
          "output_type": "stream",
          "name": "stderr",
          "text": [
            "/usr/local/lib/python3.11/dist-packages/tcn/tcn.py:268: UserWarning: Do not pass an `input_shape`/`input_dim` argument to a layer. When using Sequential models, prefer using an `Input(shape)` object as the first layer in the model instead.\n",
            "  super(TCN, self).__init__(**kwargs)\n"
          ]
        },
        {
          "output_type": "stream",
          "name": "stdout",
          "text": [
            "\u001b[1m272/272\u001b[0m \u001b[32m━━━━━━━━━━━━━━━━━━━━\u001b[0m\u001b[37m\u001b[0m \u001b[1m4s\u001b[0m 7ms/step\n",
            "✅ Stacked_TCN - Val MSE: 0.2847, Val MAE: 0.2542\n",
            "📊 Stacked_TCN - 2023 RMSE: 0.3984, MAE: 0.2572, R²: 0.6963\n",
            "\n",
            "🔁 Entrenando modelo: Dropout_Dense_TCN\n"
          ]
        },
        {
          "output_type": "stream",
          "name": "stderr",
          "text": [
            "/usr/local/lib/python3.11/dist-packages/tcn/tcn.py:268: UserWarning: Do not pass an `input_shape`/`input_dim` argument to a layer. When using Sequential models, prefer using an `Input(shape)` object as the first layer in the model instead.\n",
            "  super(TCN, self).__init__(**kwargs)\n"
          ]
        },
        {
          "output_type": "stream",
          "name": "stdout",
          "text": [
            "\u001b[1m272/272\u001b[0m \u001b[32m━━━━━━━━━━━━━━━━━━━━\u001b[0m\u001b[37m\u001b[0m \u001b[1m3s\u001b[0m 8ms/step\n",
            "✅ Dropout_Dense_TCN - Val MSE: 0.2889, Val MAE: 0.2605\n",
            "📊 Dropout_Dense_TCN - 2023 RMSE: 0.3928, MAE: 0.2543, R²: 0.7047\n"
          ]
        }
      ],
      "source": [
        "# DEFINICIÓN DE MODELOS\n",
        "\n",
        "def build_simple_tcn(input_shape):\n",
        "    model = Sequential([\n",
        "        TCN(64, kernel_size=2, dilations=[1, 2, 4, 8, 9], input_shape=input_shape),\n",
        "        Dense(1)\n",
        "    ])\n",
        "    return model\n",
        "\n",
        "def build_stacked_tcn(input_shape):\n",
        "    model = Sequential([\n",
        "        TCN(64, kernel_size=2, dilations=[1, 2, 4], return_sequences=True, input_shape=input_shape),\n",
        "        TCN(32, kernel_size=2, dilations=[1, 2, 4, 8, 9], return_sequences=False),\n",
        "        Dense(1)\n",
        "    ])\n",
        "    return model\n",
        "\n",
        "def build_dropout_dense_tcn(input_shape):\n",
        "    model = Sequential([\n",
        "        TCN(128, kernel_size=2, dilations=[1, 2, 4, 8], return_sequences=True, input_shape=input_shape),\n",
        "        Dropout(0.2),\n",
        "        TCN(64, kernel_size=2, dilations=[1, 2, 4, 8], return_sequences=False),\n",
        "        Dropout(0.2),\n",
        "        Dense(32, activation='relu'),\n",
        "        Dense(1)\n",
        "    ])\n",
        "    return model\n",
        "\n",
        "\n",
        "\n",
        "# CONFIGURACIÓN DE MODELOS A EVALUAR\n",
        "\n",
        "model_builders = {\n",
        "    'Simple_TCN': build_simple_tcn,\n",
        "    'Stacked_TCN': build_stacked_tcn,\n",
        "    'Dropout_Dense_TCN': build_dropout_dense_tcn\n",
        "}\n",
        "\n",
        "\n",
        "# ENTRENAMIENTO Y VALIDACIÓN\n",
        "\n",
        "results = {}\n",
        "\n",
        "for name, build_fn in model_builders.items():\n",
        "    print(f\"\\n Entrenando modelo: {name}\")\n",
        "    model = build_fn(input_shape=X_train.shape[1:])\n",
        "\n",
        "    model.compile(optimizer='adam', loss='mse', metrics=['mae'])\n",
        "\n",
        "    es = EarlyStopping(monitor='val_loss', patience=5, restore_best_weights=True)\n",
        "\n",
        "    history = model.fit(\n",
        "        X_train, y_train,\n",
        "        validation_data=(X_test, y_test),\n",
        "        epochs=50,\n",
        "        batch_size=32,\n",
        "        callbacks=[es],\n",
        "        verbose=0\n",
        "    )\n",
        "\n",
        "\n",
        "    # VALIDACIÓN INTERMEDIA (val)\n",
        "\n",
        "    val_loss, val_mae = model.evaluate(X_test, y_test, verbose=0)\n",
        "\n",
        "\n",
        "    # PREDICCIÓN FINAL EN 2023\n",
        "\n",
        "    y_pred_2023 = model.predict(X_2023).flatten()\n",
        "\n",
        "    # Desescalado para comparación en unidades reales\n",
        "    y_test_input_2023 = np.hstack([\n",
        "        y_2023.reshape(-1, 1),\n",
        "        np.zeros((len(y_2023), len(columnas_continuas) - 1))\n",
        "    ])\n",
        "\n",
        "    y_pred_input_2023 = np.hstack([\n",
        "        y_pred_2023.reshape(-1, 1),\n",
        "        np.zeros((len(y_pred_2023), len(columnas_continuas) - 1))\n",
        "    ])\n",
        "\n",
        "    y_test_inv_2023 = scaler_continuas.inverse_transform(y_test_input_2023)[:, 0]\n",
        "    y_pred_inv_2023 = scaler_continuas.inverse_transform(y_pred_input_2023)[:, 0]\n",
        "\n",
        "    # Métricas finales\n",
        "    rmse_2023 = np.sqrt(mean_squared_error(y_test_inv_2023, y_pred_inv_2023))\n",
        "    mae_2023 = mean_absolute_error(y_test_inv_2023, y_pred_inv_2023)\n",
        "    r2_2023 = r2_score(y_test_inv_2023, y_pred_inv_2023)\n",
        "\n",
        "\n",
        "    # GUARDAR RESULTADOS\n",
        "\n",
        "    results[name] = {\n",
        "    'val_loss': val_loss,\n",
        "    'val_mae': val_mae,\n",
        "    'rmse_2023': rmse_2023,\n",
        "    'mae_2023': mae_2023,\n",
        "    'r2_2023': r2_2023,\n",
        "    'y_test': y_test_inv_2023,\n",
        "    'y_pred': y_pred_inv_2023,\n",
        "    'history': history\n",
        "    }\n",
        "\n",
        "    print(f\" {name} - Val MSE: {val_loss:.4f}, Val MAE: {val_mae:.4f}\")\n",
        "    print(f\" {name} - 2023 RMSE: {rmse_2023:.4f}, MAE: {mae_2023:.4f}, R²: {r2_2023:.4f}\")\n"
      ]
    },
    {
      "cell_type": "code",
      "execution_count": null,
      "metadata": {
        "id": "UzMIemb3d-up"
      },
      "outputs": [],
      "source": [
        "mejor_modelo = max(results, key=lambda k: results[k]['r2_2023'])\n",
        "y_pred_inv_2023 = results[mejor_modelo]['y_pred']\n",
        "y_test_inv_2023 = results[mejor_modelo]['y_test']"
      ]
    },
    {
      "cell_type": "code",
      "execution_count": null,
      "metadata": {
        "id": "i3dPq2uwd-up"
      },
      "outputs": [],
      "source": [
        "bloques_2023_plot = detectar_bloques_continuos(df_2023, 20)\n",
        "bloque_2023_plot = bloques_2023_plot[0]"
      ]
    },
    {
      "cell_type": "code",
      "execution_count": null,
      "metadata": {
        "id": "5GQgmzFVd-up"
      },
      "outputs": [],
      "source": [
        "\n",
        "# Obtenemos los índices del bloque\n",
        "indices_bloque = bloque_2023_plot.index\n",
        "\n",
        "# Buscamos las posiciones en el original\n",
        "posiciones = df_2023.index.get_indexer(indices_bloque)\n",
        "validas = posiciones[posiciones < len(y_pred_inv_2023)]\n",
        "#obtenemos las predicciones correspondientes\n",
        "predicciones_bloque = y_pred_inv_2023[validas]\n",
        "real_bloque = y_test_inv_2023[validas]"
      ]
    },
    {
      "cell_type": "code",
      "execution_count": null,
      "metadata": {
        "id": "a8qCZ0Vtd-up",
        "colab": {
          "base_uri": "https://localhost:8080/"
        },
        "outputId": "82046840-51c0-4519-8728-53b3b039ea34"
      },
      "outputs": [
        {
          "output_type": "display_data",
          "data": {
            "text/plain": [
              "<Figure size 1400x500 with 1 Axes>"
            ],
            "image/png": "[encoded data removed]"
          },
          "metadata": {}
        }
      ],
      "source": [
        "import matplotlib.pyplot as plt\n",
        "\n",
        "plt.figure(figsize=(14, 5))\n",
        "plt.plot(real_bloque[:360], label='Real')\n",
        "plt.plot(predicciones_bloque[:360], label='Predicho')\n",
        "plt.title(\"Predicción de hora siguiente de \" + contaminante +\" en la estación \" + str(estacion) + \" a lo largo de 15 días (2023)\")\n",
        "plt.xlabel(\"Instante de tiempo t + X\")\n",
        "plt.ylabel(\"Concentración (μg/m³)\")\n",
        "plt.legend()\n",
        "plt.grid(True)\n",
        "plt.show()"
      ]
    },
    {
      "cell_type": "markdown",
      "metadata": {
        "id": "KlYeU7oPedXI"
      },
      "source": [
        "#LSTM predicción 24 horas"
      ]
    },
    {
      "cell_type": "code",
      "execution_count": null,
      "metadata": {
        "id": "JxsvOyA8edXJ",
        "colab": {
          "base_uri": "https://localhost:8080/"
        },
        "outputId": "21b33523-c6fd-4b9f-d915-fc7b53ddf162"
      },
      "outputs": [
        {
          "output_type": "stream",
          "name": "stdout",
          "text": [
            "\n",
            "🔁 Entrenando modelo: Simple_LSTM\n"
          ]
        },
        {
          "output_type": "stream",
          "name": "stderr",
          "text": [
            "/usr/local/lib/python3.11/dist-packages/keras/src/layers/rnn/rnn.py:200: UserWarning: Do not pass an `input_shape`/`input_dim` argument to a layer. When using Sequential models, prefer using an `Input(shape)` object as the first layer in the model instead.\n",
            "  super().__init__(**kwargs)\n"
          ]
        },
        {
          "output_type": "stream",
          "name": "stdout",
          "text": [
            "\u001b[1m271/271\u001b[0m \u001b[32m━━━━━━━━━━━━━━━━━━━━\u001b[0m\u001b[37m\u001b[0m \u001b[1m1s\u001b[0m 2ms/step\n",
            "✅ Simple_LSTM - Val MSE: 0.5028, Val MAE: 0.3862\n",
            "📊 Simple_LSTM - 2023 RMSE: 0.5187, MAE: 0.3769, R²: 0.4831\n",
            "\n",
            "🔁 Entrenando modelo: Stacked_LSTM\n"
          ]
        },
        {
          "output_type": "stream",
          "name": "stderr",
          "text": [
            "/usr/local/lib/python3.11/dist-packages/keras/src/layers/rnn/rnn.py:200: UserWarning: Do not pass an `input_shape`/`input_dim` argument to a layer. When using Sequential models, prefer using an `Input(shape)` object as the first layer in the model instead.\n",
            "  super().__init__(**kwargs)\n"
          ]
        },
        {
          "output_type": "stream",
          "name": "stdout",
          "text": [
            "\u001b[1m271/271\u001b[0m \u001b[32m━━━━━━━━━━━━━━━━━━━━\u001b[0m\u001b[37m\u001b[0m \u001b[1m1s\u001b[0m 3ms/step\n",
            "✅ Stacked_LSTM - Val MSE: 0.5114, Val MAE: 0.3877\n",
            "📊 Stacked_LSTM - 2023 RMSE: 0.5522, MAE: 0.4048, R²: 0.4141\n",
            "\n",
            "🔁 Entrenando modelo: Dropout_Dense_LSTM\n"
          ]
        },
        {
          "output_type": "stream",
          "name": "stderr",
          "text": [
            "/usr/local/lib/python3.11/dist-packages/keras/src/layers/rnn/rnn.py:200: UserWarning: Do not pass an `input_shape`/`input_dim` argument to a layer. When using Sequential models, prefer using an `Input(shape)` object as the first layer in the model instead.\n",
            "  super().__init__(**kwargs)\n"
          ]
        },
        {
          "output_type": "stream",
          "name": "stdout",
          "text": [
            "\u001b[1m271/271\u001b[0m \u001b[32m━━━━━━━━━━━━━━━━━━━━\u001b[0m\u001b[37m\u001b[0m \u001b[1m1s\u001b[0m 4ms/step\n",
            "✅ Dropout_Dense_LSTM - Val MSE: 0.5211, Val MAE: 0.3821\n",
            "📊 Dropout_Dense_LSTM - 2023 RMSE: 0.6266, MAE: 0.4474, R²: 0.2456\n"
          ]
        }
      ],
      "source": [
        "# DEFINICIÓN DE MODELOS\n",
        "\n",
        "def build_simple_lstm_dense24(input_shape):\n",
        "    model = Sequential([\n",
        "        LSTM(64, input_shape=input_shape),\n",
        "        Dense(24)\n",
        "    ])\n",
        "    return model\n",
        "\n",
        "def build_stacked_lstm_dense24(input_shape):\n",
        "    model = Sequential([\n",
        "        LSTM(64, return_sequences=True, input_shape=input_shape),\n",
        "        LSTM(64),\n",
        "        Dense(24)\n",
        "    ])\n",
        "    return model\n",
        "\n",
        "def build_dropout_lstm_dense24(input_shape):\n",
        "    model = Sequential([\n",
        "        LSTM(128, return_sequences=True, input_shape=input_shape),\n",
        "        Dropout(0.2),\n",
        "        LSTM(64),\n",
        "        Dropout(0.2),\n",
        "        Dense(64, activation='relu'),\n",
        "        Dense(24)\n",
        "    ])\n",
        "    return model\n",
        "\n",
        "\n",
        "# CONFIGURACIÓN DE MODELOS A EVALUAR\n",
        "\n",
        "model_builders = {\n",
        "    'Simple_LSTM': build_simple_lstm_dense24,\n",
        "    'Stacked_LSTM': build_stacked_lstm_dense24,\n",
        "    'Dropout_Dense_LSTM': build_dropout_lstm_dense24\n",
        "}\n",
        "\n",
        "\n",
        "# ENTRENAMIENTO Y VALIDACIÓN\n",
        "\n",
        "results = {}\n",
        "\n",
        "for name, build_fn in model_builders.items():\n",
        "    print(f\"\\n Entrenando modelo: {name}\")\n",
        "    model = build_fn(input_shape=(X_24.shape[1], X_24.shape[2]))\n",
        "\n",
        "    model.compile(optimizer='adam', loss='mse', metrics=['mae'])\n",
        "\n",
        "    es = EarlyStopping(monitor='val_loss', patience=5, restore_best_weights=True)\n",
        "\n",
        "    history = model.fit(\n",
        "        X_train_24, y_train_24,\n",
        "        validation_data=(X_test_24, y_test_24),\n",
        "        epochs=50,\n",
        "        batch_size=32,\n",
        "        callbacks=[es],\n",
        "        verbose=0\n",
        "    )\n",
        "\n",
        "\n",
        "    # VALIDACIÓN INTERMEDIA (val)\n",
        "\n",
        "    val_loss, val_mae = model.evaluate(X_test_24, y_test_24, verbose=0)\n",
        "\n",
        "\n",
        "    # PREDICCIÓN FINAL EN 2023\n",
        "\n",
        "    y_pred_2023_24 = model.predict(X_2023_24)\n",
        "    y_pred_inv_2023_24 = desescalar_salida_multistep(y_pred_2023_24, scaler_continuas, columnas_continuas)\n",
        "    y_2023_inv_2023_24 = desescalar_salida_multistep(y_2023_24, scaler_continuas, columnas_continuas)\n",
        "\n",
        "    rmse_2023 = np.sqrt(mean_squared_error(y_2023_inv_2023_24, y_pred_inv_2023_24))\n",
        "    mae_2023 = mean_absolute_error(y_2023_inv_2023_24, y_pred_inv_2023_24)\n",
        "    r2_2023 = r2_score(y_2023_inv_2023_24, y_pred_inv_2023_24)\n",
        "\n",
        "\n",
        "    # GUARDAR RESULTADOS\n",
        "\n",
        "    results[name] = {\n",
        "    'val_loss': val_loss,\n",
        "    'val_mae': val_mae,\n",
        "    'rmse_2023': rmse_2023,\n",
        "    'mae_2023': mae_2023,\n",
        "    'r2_2023': r2_2023,\n",
        "    'y_test': y_2023_inv_2023_24,\n",
        "    'y_pred': y_pred_inv_2023_24,\n",
        "    'history': history\n",
        "    }\n",
        "\n",
        "    print(f\" {name} - Val MSE: {val_loss:.4f}, Val MAE: {val_mae:.4f}\")\n",
        "    print(f\" {name} - 2023 RMSE: {rmse_2023:.4f}, MAE: {mae_2023:.4f}, R²: {r2_2023:.4f}\")\n"
      ]
    },
    {
      "cell_type": "markdown",
      "metadata": {
        "id": "6zGMOdHcimPJ"
      },
      "source": [
        "#GRU predicción 24 horas"
      ]
    },
    {
      "cell_type": "code",
      "execution_count": null,
      "metadata": {
        "id": "kmmb5r4GimPK",
        "colab": {
          "base_uri": "https://localhost:8080/"
        },
        "outputId": "1a73e609-b1df-4e10-a81c-eac36a32fbec"
      },
      "outputs": [
        {
          "output_type": "stream",
          "name": "stdout",
          "text": [
            "\n",
            "🔁 Entrenando modelo: Simple_GRU\n"
          ]
        },
        {
          "output_type": "stream",
          "name": "stderr",
          "text": [
            "/usr/local/lib/python3.11/dist-packages/keras/src/layers/rnn/rnn.py:200: UserWarning: Do not pass an `input_shape`/`input_dim` argument to a layer. When using Sequential models, prefer using an `Input(shape)` object as the first layer in the model instead.\n",
            "  super().__init__(**kwargs)\n"
          ]
        },
        {
          "output_type": "stream",
          "name": "stdout",
          "text": [
            "\u001b[1m271/271\u001b[0m \u001b[32m━━━━━━━━━━━━━━━━━━━━\u001b[0m\u001b[37m\u001b[0m \u001b[1m1s\u001b[0m 2ms/step\n",
            "✅ Simple_GRU - Val MSE: 0.5012, Val MAE: 0.3893\n",
            "📊 Simple_GRU - 2023 RMSE: 0.5249, MAE: 0.3845, R²: 0.4707\n",
            "\n",
            "🔁 Entrenando modelo: Stacked_GRU\n"
          ]
        },
        {
          "output_type": "stream",
          "name": "stderr",
          "text": [
            "/usr/local/lib/python3.11/dist-packages/keras/src/layers/rnn/rnn.py:200: UserWarning: Do not pass an `input_shape`/`input_dim` argument to a layer. When using Sequential models, prefer using an `Input(shape)` object as the first layer in the model instead.\n",
            "  super().__init__(**kwargs)\n"
          ]
        },
        {
          "output_type": "stream",
          "name": "stdout",
          "text": [
            "\u001b[1m271/271\u001b[0m \u001b[32m━━━━━━━━━━━━━━━━━━━━\u001b[0m\u001b[37m\u001b[0m \u001b[1m1s\u001b[0m 3ms/step\n",
            "✅ Stacked_GRU - Val MSE: 0.5043, Val MAE: 0.3961\n",
            "📊 Stacked_GRU - 2023 RMSE: 0.5170, MAE: 0.3766, R²: 0.4863\n",
            "\n",
            "🔁 Entrenando modelo: Dropout_Dense_GRU\n"
          ]
        },
        {
          "output_type": "stream",
          "name": "stderr",
          "text": [
            "/usr/local/lib/python3.11/dist-packages/keras/src/layers/rnn/rnn.py:200: UserWarning: Do not pass an `input_shape`/`input_dim` argument to a layer. When using Sequential models, prefer using an `Input(shape)` object as the first layer in the model instead.\n",
            "  super().__init__(**kwargs)\n"
          ]
        },
        {
          "output_type": "stream",
          "name": "stdout",
          "text": [
            "\u001b[1m271/271\u001b[0m \u001b[32m━━━━━━━━━━━━━━━━━━━━\u001b[0m\u001b[37m\u001b[0m \u001b[1m1s\u001b[0m 3ms/step\n",
            "✅ Dropout_Dense_GRU - Val MSE: 0.5190, Val MAE: 0.3823\n",
            "📊 Dropout_Dense_GRU - 2023 RMSE: 0.5551, MAE: 0.4021, R²: 0.4079\n"
          ]
        }
      ],
      "source": [
        "# DEFINICIÓN DE MODELOS\n",
        "\n",
        "def build_simple_gru_dense24(input_shape):\n",
        "    model = Sequential([\n",
        "        GRU(64, input_shape=input_shape),\n",
        "        Dense(24)\n",
        "    ])\n",
        "    return model\n",
        "\n",
        "def build_stacked_gru_dense24(input_shape):\n",
        "    model = Sequential([\n",
        "        GRU(64, return_sequences=True, input_shape=input_shape),\n",
        "        GRU(64),\n",
        "        Dense(24)\n",
        "    ])\n",
        "    return model\n",
        "\n",
        "def build_dropout_gru_dense24(input_shape):\n",
        "    model = Sequential([\n",
        "        GRU(128, return_sequences=True, input_shape=input_shape),\n",
        "        Dropout(0.2),\n",
        "        GRU(64),\n",
        "        Dropout(0.2),\n",
        "        Dense(64, activation='relu'),\n",
        "        Dense(24)\n",
        "    ])\n",
        "    return model\n",
        "\n",
        "\n",
        "# CONFIGURACIÓN DE MODELOS A EVALUAR\n",
        "\n",
        "model_builders = {\n",
        "    'Simple_GRU': build_simple_gru_dense24,\n",
        "    'Stacked_GRU': build_stacked_gru_dense24,\n",
        "    'Dropout_Dense_GRU': build_dropout_gru_dense24\n",
        "}\n",
        "\n",
        "\n",
        "# ENTRENAMIENTO Y VALIDACIÓN\n",
        "\n",
        "results = {}\n",
        "\n",
        "for name, build_fn in model_builders.items():\n",
        "    print(f\"\\n Entrenando modelo: {name}\")\n",
        "    model = build_fn(input_shape=(X_24.shape[1], X_24.shape[2]))\n",
        "\n",
        "    model.compile(optimizer='adam', loss='mse', metrics=['mae'])\n",
        "\n",
        "    es = EarlyStopping(monitor='val_loss', patience=5, restore_best_weights=True)\n",
        "\n",
        "    history = model.fit(\n",
        "        X_train_24, y_train_24,\n",
        "        validation_data=(X_test_24, y_test_24),\n",
        "        epochs=50,\n",
        "        batch_size=32,\n",
        "        callbacks=[es],\n",
        "        verbose=0\n",
        "    )\n",
        "\n",
        "\n",
        "    # VALIDACIÓN INTERMEDIA (val)\n",
        "\n",
        "    val_loss, val_mae = model.evaluate(X_test_24, y_test_24, verbose=0)\n",
        "\n",
        "\n",
        "    # PREDICCIÓN FINAL EN 2023\n",
        "\n",
        "    y_pred_2023_24 = model.predict(X_2023_24)\n",
        "    y_pred_inv_2023_24 = desescalar_salida_multistep(y_pred_2023_24, scaler_continuas, columnas_continuas)\n",
        "    y_2023_inv_2023_24 = desescalar_salida_multistep(y_2023_24, scaler_continuas, columnas_continuas)\n",
        "\n",
        "    rmse_2023 = np.sqrt(mean_squared_error(y_2023_inv_2023_24, y_pred_inv_2023_24))\n",
        "    mae_2023 = mean_absolute_error(y_2023_inv_2023_24, y_pred_inv_2023_24)\n",
        "    r2_2023 = r2_score(y_2023_inv_2023_24, y_pred_inv_2023_24)\n",
        "\n",
        "    # GUARDAR RESULTADOS\n",
        "\n",
        "    results[name] = {\n",
        "    'val_loss': val_loss,\n",
        "    'val_mae': val_mae,\n",
        "    'rmse_2023': rmse_2023,\n",
        "    'mae_2023': mae_2023,\n",
        "    'r2_2023': r2_2023,\n",
        "    'y_test': y_2023_inv_2023_24,\n",
        "    'y_pred': y_pred_inv_2023_24,\n",
        "    'history': history\n",
        "    }\n",
        "\n",
        "    print(f\" {name} - Val MSE: {val_loss:.4f}, Val MAE: {val_mae:.4f}\")\n",
        "    print(f\" {name} - 2023 RMSE: {rmse_2023:.4f}, MAE: {mae_2023:.4f}, R²: {r2_2023:.4f}\")\n"
      ]
    }
  ],
  "metadata": {
    "accelerator": "GPU",
    "colab": {
      "collapsed_sections": [
        "vUyxcdzoU8oj",
        "8Cx3GeyrVBio",
        "fJ9jBVusVl7N",
        "OdLLoex3WTIP",
        "KlYeU7oPedXI",
        "fWvy-9XoWpT0",
        "1YxkLXyKIMv8",
        "AlPfLjocxNLs"
      ],
      "gpuType": "T4",
      "provenance": [],
      "include_colab_link": true
    },
    "kernelspec": {
      "display_name": "Python 3",
      "name": "python3"
    },
    "language_info": {
      "name": "python"
    }
  },
  "nbformat": 4,
  "nbformat_minor": 0
}